{
 "cells": [
  {
   "cell_type": "code",
   "execution_count": 47,
   "id": "929ff929-12d1-4412-8094-d572d8d6bcd7",
   "metadata": {},
   "outputs": [
    {
     "ename": "ModuleNotFoundError",
     "evalue": "No module named 'ace_tools'",
     "output_type": "error",
     "traceback": [
      "\u001b[1;31m---------------------------------------------------------------------------\u001b[0m",
      "\u001b[1;31mModuleNotFoundError\u001b[0m                       Traceback (most recent call last)",
      "Cell \u001b[1;32mIn[47], line 3\u001b[0m\n\u001b[0;32m      1\u001b[0m \u001b[38;5;28;01mimport\u001b[39;00m \u001b[38;5;21;01mpandas\u001b[39;00m \u001b[38;5;28;01mas\u001b[39;00m \u001b[38;5;21;01mpd\u001b[39;00m\n\u001b[0;32m      2\u001b[0m \u001b[38;5;28;01mimport\u001b[39;00m \u001b[38;5;21;01mnumpy\u001b[39;00m \u001b[38;5;28;01mas\u001b[39;00m \u001b[38;5;21;01mnp\u001b[39;00m\n\u001b[1;32m----> 3\u001b[0m \u001b[38;5;28;01mimport\u001b[39;00m \u001b[38;5;21;01mace_tools\u001b[39;00m \u001b[38;5;28;01mas\u001b[39;00m \u001b[38;5;21;01mtools\u001b[39;00m\n",
      "\u001b[1;31mModuleNotFoundError\u001b[0m: No module named 'ace_tools'"
     ]
    }
   ],
   "source": [
    "import pandas as pd\n",
    "import numpy as np\n",
    "import ace_tools as tools"
   ]
  },
  {
   "cell_type": "markdown",
   "id": "0e9c6ac2-8dde-4c56-a39d-ac717bdef21a",
   "metadata": {},
   "source": [
    "### Ejercicio 1:\n",
    "¿Qué técnica de pronóstico revisa continuamente una estimación a la luz de experiencias más recientes?\n"
   ]
  },
  {
   "cell_type": "markdown",
   "id": "d6a05c5a-2bf9-4311-bb29-e47179bc371c",
   "metadata": {},
   "source": [
    "#### Respuesta:\n",
    "\n",
    "La técnica de pronóstico que revisa continuamente una estimación a la luz de experiencias más recientes es el **suavizamiento exponencial** (Exponential Smoothing).\n",
    "\n",
    "Esta técnica ajusta la estimación anterior en función del error de predicción más reciente, lo que permite adaptarse rápidamente a los cambios recientes en la serie temporal.\n",
    "\n"
   ]
  },
  {
   "cell_type": "markdown",
   "id": "f9f4d1bb-5336-4579-b1c8-0e4754b65dd2",
   "metadata": {},
   "source": [
    "### Ejercicio 2:\n",
    "¿Qué técnica de pronóstico asigna pesos iguales a cada observación?\n"
   ]
  },
  {
   "cell_type": "markdown",
   "id": "f37a79c0-14d5-4a0c-b281-4699235e65a6",
   "metadata": {},
   "source": [
    "#### Respuesta:\n",
    "La técnica de pronóstico que asigna pesos iguales a cada observación es el **promedio móvil simple** (Simple Moving Average).\n",
    "\n",
    "En esta técnica, cada valor utilizado en el cálculo del pronóstico tiene la misma importancia, es decir, no se favorece a los datos más recientes ni a los más antiguos."
   ]
  },
  {
   "cell_type": "markdown",
   "id": "556b52bc-7fe4-4829-8734-325edccdbf4a",
   "metadata": {},
   "source": [
    "### Ejercicio 3:\n",
    "¿Qué técnicas de pronóstico deberían probarse si los datos son estacionales?\n"
   ]
  },
  {
   "cell_type": "markdown",
   "id": "a4549086-64da-4270-93c1-63cccc9200a0",
   "metadata": {},
   "source": [
    "#### Respuesta\n",
    "Si los datos presentan estacionalidad, las técnicas de pronóstico que deberían probarse incluyen:\n",
    "\n",
    "- **Suavizamiento exponencial estacional** (Seasonal Exponential Smoothing)\n",
    "- **Modelos de descomposición estacional** (como la Descomposición Clásica o STL)\n",
    "- **Modelos SARIMA** (Seasonal ARIMA)\n",
    "- **Modelos de Holt-Winters** (cuando se incluye tanto tendencia como estacionalidad)\n",
    "\n",
    "Estas técnicas permiten capturar los patrones repetitivos que ocurren en intervalos regulares dentro de la serie temporal."
   ]
  },
  {
   "cell_type": "markdown",
   "id": "2746b8bd-057a-4de2-bc86-18ffa1af97f6",
   "metadata": {},
   "source": [
    "### Ejercicio 4:\n",
    "Apex Mutual Fund invierte principalmente en acciones tecnológicas. Los precios del fondo al final de cada mes durante los 12 meses de 2003 se muestran a continuación. Utiliza un promedio móvil de tres meses para pronosticar el precio del fondo en enero de 2004.\n",
    "\n",
    "| Mes 2003   | Precio del fondo |\n",
    "|------------|------------------|\n",
    "| Enero      | 19.39            |\n",
    "| Febrero    | 18.96            |\n",
    "| Marzo      | 18.20            |\n",
    "| Abril      | 17.89            |\n",
    "| Mayo       | 18.43            |\n",
    "| Junio      | 19.98            |\n",
    "| Julio      | 19.51            |\n",
    "| Agosto     | 20.63            |\n",
    "| Septiembre | 19.78            |\n",
    "| Octubre    | 21.25            |\n",
    "| Noviembre  | 21.18            |\n",
    "| Diciembre  | 22.14            |\n",
    "\n",
    "Calcula el promedio móvil de 3 meses para pronosticar **enero de 2004**.\n"
   ]
  },
  {
   "cell_type": "code",
   "execution_count": 39,
   "id": "8abeba7d-2727-4f7a-991f-5edeeebc0ca3",
   "metadata": {},
   "outputs": [
    {
     "name": "stdout",
     "output_type": "stream",
     "text": [
      "El pronóstico del precio del fondo para enero de 2004 es: 21.52\n"
     ]
    }
   ],
   "source": [
    "# Datos del fondo\n",
    "datos = {\n",
    "    \"Mes\": [\n",
    "        \"Enero\", \"Febrero\", \"Marzo\", \"Abril\", \"Mayo\", \"Junio\",\n",
    "        \"Julio\", \"Agosto\", \"Septiembre\", \"Octubre\", \"Noviembre\", \"Diciembre\"\n",
    "    ],\n",
    "    \"Precio\": [\n",
    "        19.39, 18.96, 18.20, 17.89, 18.43, 19.98,\n",
    "        19.51, 20.63, 19.78, 21.25, 21.18, 22.14\n",
    "    ]\n",
    "}\n",
    "\n",
    "df = pd.DataFrame(datos)\n",
    "\n",
    "# Cálculo del promedio móvil de 3 meses para enero de 2004\n",
    "# Tomamos los últimos 3 valores: Octubre, Noviembre, Diciembre\n",
    "ultimo_trimestre = df[\"Precio\"][-3:]\n",
    "pronostico_enero_2004 = ultimo_trimestre.mean()\n",
    "\n",
    "print(f\"El pronóstico del precio del fondo para enero de 2004 es: {pronostico_enero_2004:.2f}\")"
   ]
  },
  {
   "cell_type": "markdown",
   "id": "3f154308-703e-45f1-a2b8-88a9b3d5d4e6",
   "metadata": {},
   "source": [
    "#### Comentario: \n",
    "En este ejercicio usamos el método del **promedio móvil simple de 3 meses** para hacer un pronóstico. Es decir, se toma la media de los tres últimos meses disponibles (octubre, noviembre y diciembre) para estimar el valor del mes siguiente (enero de 2004). Este tipo de técnica es bastante intuitiva y útil cuando los datos no presentan una tendencia clara o una estacionalidad fuerte, ya que suaviza las pequeñas variaciones aleatorias. El resultado que obtenemos representa un valor “centrado” y equilibrado para hacer una predicción inmediata."
   ]
  },
  {
   "cell_type": "markdown",
   "id": "1f6dc3cb-f1f6-4e54-aa39-b9f1a50ec587",
   "metadata": {},
   "source": [
    "### Ejercicio 5:\n",
    "El rendimiento de un bono de obligación general de la ciudad de Davenport fluctúa con el mercado. Las cotizaciones mensuales para el año 2002 son las siguientes:\n",
    "\n",
    "| Mes         | Rendimiento (%) |\n",
    "|-------------|------------------|\n",
    "| Enero       | 9.29             |\n",
    "| Febrero     | 9.99             |\n",
    "| Marzo       | 10.16            |\n",
    "| Abril       | 10.25            |\n",
    "| Mayo        | 10.61            |\n",
    "| Junio       | 11.07            |\n",
    "| Julio       | 11.52            |\n",
    "| Agosto      | 11.09            |\n",
    "| Septiembre  | 10.80            |\n",
    "| Octubre     | 10.50            |\n",
    "| Noviembre   | 10.86            |\n",
    "| Diciembre   | 9.97             |\n",
    "\n",
    "a. Calcula el valor pronosticado del rendimiento para enero de 2003 usando un promedio móvil de 3 meses.  \n",
    "b. Calcula el valor pronosticado del rendimiento para enero de 2003 usando un promedio móvil de 5 meses.  \n",
    "c. Evalúa ambos métodos usando el **MAD** (Mean Absolute Deviation).  \n",
    "d. Evalúa ambos métodos usando el **MSD** (Mean Squared Deviation).  \n",
    "e. Evalúa ambos métodos usando el **MAPE** (Mean Absolute Percentage Error).\n"
   ]
  },
  {
   "cell_type": "code",
   "execution_count": 43,
   "id": "d9d45c36-5388-411e-a6d8-695862979a18",
   "metadata": {},
   "outputs": [
    {
     "name": "stdout",
     "output_type": "stream",
     "text": [
      "Apartado a - Pronóstico con promedio móvil de 3 meses (Oct-Nov-Dic): 10.44%\n",
      "Apartado b - Pronóstico con promedio móvil de 5 meses (Ago-Dic): 10.64%\n"
     ]
    },
    {
     "ename": "ModuleNotFoundError",
     "evalue": "No module named 'ace_tools'",
     "output_type": "error",
     "traceback": [
      "\u001b[1;31m---------------------------------------------------------------------------\u001b[0m",
      "\u001b[1;31mModuleNotFoundError\u001b[0m                       Traceback (most recent call last)",
      "Cell \u001b[1;32mIn[43], line 50\u001b[0m\n\u001b[0;32m     47\u001b[0m metricas_df \u001b[38;5;241m=\u001b[39m pd\u001b[38;5;241m.\u001b[39mDataFrame([metricas_3m, metricas_5m])\n\u001b[0;32m     49\u001b[0m \u001b[38;5;66;03m# Mostrar comparativa\u001b[39;00m\n\u001b[1;32m---> 50\u001b[0m \u001b[38;5;28;01mimport\u001b[39;00m \u001b[38;5;21;01mace_tools\u001b[39;00m \u001b[38;5;28;01mas\u001b[39;00m \u001b[38;5;21;01mtools\u001b[39;00m; tools\u001b[38;5;241m.\u001b[39mdisplay_dataframe_to_user(name\u001b[38;5;241m=\u001b[39m\u001b[38;5;124m\"\u001b[39m\u001b[38;5;124mEvaluación de errores de pronóstico\u001b[39m\u001b[38;5;124m\"\u001b[39m, dataframe\u001b[38;5;241m=\u001b[39mmetricas_df)\n",
      "\u001b[1;31mModuleNotFoundError\u001b[0m: No module named 'ace_tools'"
     ]
    }
   ],
   "source": [
    "# Datos de rendimiento mensual\n",
    "rendimientos = [9.29, 9.99, 10.16, 10.25, 10.61, 11.07,\n",
    "                11.52, 11.09, 10.80, 10.50, 10.86, 9.97]\n",
    "\n",
    "meses = [\"Enero\", \"Febrero\", \"Marzo\", \"Abril\", \"Mayo\", \"Junio\",\n",
    "         \"Julio\", \"Agosto\", \"Septiembre\", \"Octubre\", \"Noviembre\", \"Diciembre\"]\n",
    "\n",
    "df = pd.DataFrame({\n",
    "    \"Mes\": meses,\n",
    "    \"Rendimiento\": rendimientos\n",
    "})\n",
    "\n",
    "# Apartado a: Promedio móvil de 3 meses para enero 2003\n",
    "promedio_3m = df[\"Rendimiento\"][-3:].mean()\n",
    "print(f\"Apartado a - Pronóstico con promedio móvil de 3 meses (Oct-Nov-Dic): {promedio_3m:.2f}%\")\n",
    "\n",
    "# Apartado b: Promedio móvil de 5 meses para enero 2003\n",
    "promedio_5m = df[\"Rendimiento\"][-5:].mean()\n",
    "print(f\"Apartado b - Pronóstico con promedio móvil de 5 meses (Ago-Dic): {promedio_5m:.2f}%\")\n",
    "\n",
    "# Función para calcular métricas de error\n",
    "def calcular_metricas(df, n, nombre):\n",
    "    pronosticos = df[\"Rendimiento\"].rolling(window=n).mean()\n",
    "    reales = df[\"Rendimiento\"][n:]\n",
    "    pronos_validos = pronosticos[n:]\n",
    "\n",
    "    errores = reales - pronos_validos\n",
    "    abs_errores = errores.abs()\n",
    "    sq_errores = errores**2\n",
    "    ape = (abs_errores / reales) * 100\n",
    "\n",
    "    mad = abs_errores.mean()\n",
    "    msd = sq_errores.mean()\n",
    "    mape = ape.mean()\n",
    "\n",
    "    return {\n",
    "        \"Método\": nombre,\n",
    "        \"MAD (a)\": mad,\n",
    "        \"MSD (b)\": msd,\n",
    "        \"MAPE (%) (c)\": mape\n",
    "    }\n",
    "\n",
    "# Apartados c, d, e: Evaluación de los métodos\n",
    "metricas_3m = calcular_metricas(df, 3, \"Promedio móvil 3M\")\n",
    "metricas_5m = calcular_metricas(df, 5, \"Promedio móvil 5M\")\n",
    "\n",
    "metricas_df = pd.DataFrame([metricas_3m, metricas_5m])\n",
    "\n",
    "# Mostrar comparativa\n",
    "tools.display_dataframe_to_user(name=\"Evaluación de errores de pronóstico\", dataframe=metricas_df)\n"
   ]
  },
  {
   "cell_type": "code",
   "execution_count": null,
   "id": "f1685999-e2cf-40d7-8fd2-f8d65b194a15",
   "metadata": {},
   "outputs": [],
   "source": []
  }
 ],
 "metadata": {
  "kernelspec": {
   "display_name": "Python [conda env:base] *",
   "language": "python",
   "name": "conda-base-py"
  },
  "language_info": {
   "codemirror_mode": {
    "name": "ipython",
    "version": 3
   },
   "file_extension": ".py",
   "mimetype": "text/x-python",
   "name": "python",
   "nbconvert_exporter": "python",
   "pygments_lexer": "ipython3",
   "version": "3.12.7"
  }
 },
 "nbformat": 4,
 "nbformat_minor": 5
}
