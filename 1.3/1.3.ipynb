{
 "cells": [
  {
   "cell_type": "code",
   "execution_count": 2,
   "id": "34f96ad8-bf2e-42c8-8368-368de93480ea",
   "metadata": {},
   "outputs": [],
   "source": [
    "import numpy as np\n",
    "import scipy.stats as stats\n",
    "import statsmodels.api as sm\n",
    "from math import sqrt"
   ]
  },
  {
   "cell_type": "code",
   "execution_count": 8,
   "id": "865c8902-ea7b-4f3a-af71-2fd95af68ff8",
   "metadata": {},
   "outputs": [
    {
     "name": "stdout",
     "output_type": "stream",
     "text": [
      "Ejercicio 1:\n",
      "Media muestral: 1.3\n",
      "Desviación estándar muestral: 1.1788363637137231\n",
      "Intervalo de confianza 95%: (0.8598152675556923, 1.7401847324443078)\n",
      "La media de la muestra no proporciona evidencia suficiente para concluir que la calidad de los autos es diferente al promedio de la industria.\n"
     ]
    }
   ],
   "source": [
    "# Ejercicio 1\n",
    "# Datos de defectos por automóvil\n",
    "defectos = np.array([0, 1, 1, 2, 1, 0, 2, 3, 2, 1, 0, 4, 3, 1, 1,\n",
    "                     0, 2, 0, 0, 2, 3, 0, 2, 0, 2, 0, 3, 1, 0, 2])\n",
    "media_muestral = np.mean(defectos)\n",
    "desviacion_muestral = np.std(defectos, ddof=1)\n",
    "intervalo_confianza = stats.t.interval(0.95, len(defectos)-1, loc=media_muestral, scale=desviacion_muestral/sqrt(len(defectos)))\n",
    "\n",
    "print(\"Ejercicio 1:\")\n",
    "print(\"Media muestral:\", media_muestral)\n",
    "print(\"Desviación estándar muestral:\", desviacion_muestral)\n",
    "print(\"Intervalo de confianza 95%:\", intervalo_confianza)\n",
    "# Pregunta d)\n",
    "if intervalo_confianza[0] <= 1.07 <= intervalo_confianza[1]:\n",
    "    print(\"La media de la muestra no proporciona evidencia suficiente para concluir que la calidad de los autos es diferente al promedio de la industria.\")\n",
    "else:\n",
    "    print(\"La media de la muestra sugiere que la calidad de los autos podría ser diferente al promedio de la industria. Se recomienda tomar más muestras para una mejor conclusión.\")"
   ]
  },
  {
   "cell_type": "code",
   "execution_count": 10,
   "id": "d3f8ffda-2180-4631-b698-5ef8de70d031",
   "metadata": {},
   "outputs": [
    {
     "name": "stdout",
     "output_type": "stream",
     "text": [
      "\n",
      "Ejercicio 2:\n",
      "Intervalo de confianza 95% para millas recorridas: (16.78497819132614, 23.61502180867386)\n",
      "Asumimos que la población sigue una distribución normal para calcular el intervalo de confianza.\n",
      "El intervalo de confianza no cumple con el nivel de precisión deseado. Se recomienda tomar una muestra más grande.\n"
     ]
    }
   ],
   "source": [
    "# Ejercicio 2\n",
    "millas = np.array([20, 20, 28, 16, 11, 17, 23, 16, 22, 18, 10, 22, 29, 19, 32])\n",
    "media_millas = np.mean(millas)\n",
    "desviacion_millas = np.std(millas, ddof=1)\n",
    "intervalo_millas = stats.t.interval(0.95, len(millas)-1, loc=media_millas, scale=desviacion_millas/sqrt(len(millas)))\n",
    "\n",
    "print(\"\\nEjercicio 2:\")\n",
    "print(\"Intervalo de confianza 95% para millas recorridas:\", intervalo_millas)\n",
    "print(\"Asumimos que la población sigue una distribución normal para calcular el intervalo de confianza.\")\n",
    "\n",
    "# Precisión requerida\n",
    "margen_error = (intervalo_millas[1] - intervalo_millas[0]) / 2\n",
    "if margen_error <= 2:\n",
    "    print(\"El intervalo de confianza cumple con el nivel de precisión deseado.\")\n",
    "else:\n",
    "    print(\"El intervalo de confianza no cumple con el nivel de precisión deseado. Se recomienda tomar una muestra más grande.\")"
   ]
  },
  {
   "cell_type": "code",
   "execution_count": 12,
   "id": "8f68b02c-855e-4a0d-85c3-ffabb38bda55",
   "metadata": {},
   "outputs": [
    {
     "name": "stdout",
     "output_type": "stream",
     "text": [
      "\n",
      "Ejercicio 3:\n",
      "p-valor de la prueba t: 0.027919999362084263\n",
      "Conclusión: Se rechaza H0 y Heathrow puede ser designado como superior\n"
     ]
    }
   ],
   "source": [
    "# Ejercicio 3\n",
    "heathrow_ratings = np.array([7, 8, 10, 8, 6, 9, 6, 7, 7, 8, 9, 8])\n",
    "media_h = np.mean(heathrow_ratings)\n",
    "desv_h = np.std(heathrow_ratings, ddof=1)\n",
    "test_stat, p_value = stats.ttest_1samp(heathrow_ratings, 7, alternative='greater')\n",
    "\n",
    "print(\"\\nEjercicio 3:\")\n",
    "print(\"p-valor de la prueba t:\", p_value)\n",
    "print(\"Conclusión:\", \"Se rechaza H0 y Heathrow puede ser designado como superior\" if p_value < 0.05 else \"No se rechaza H0 y Heathrow no debe ser designado como superior\")"
   ]
  },
  {
   "cell_type": "code",
   "execution_count": 14,
   "id": "9b9cfabd-19b7-4972-8af2-9468a6fd5a39",
   "metadata": {},
   "outputs": [
    {
     "name": "stdout",
     "output_type": "stream",
     "text": [
      "\n",
      "Ejercicio 4:\n",
      "Media muestral: 16.07\n",
      "Desviación estándar: 0.17728105208558345\n",
      "Intervalo de confianza 95%: (15.921789331447926, 16.218210668552075)\n",
      "p-valor de la prueba t: 0.30093607677048567\n",
      "Conclusión: No se rechaza H0, el proceso de producción no requiere ajuste.\n"
     ]
    }
   ],
   "source": [
    "# Ejercicio 4\n",
    "pesos = np.array([16.02, 16.22, 15.82, 15.92, 16.22, 16.32, 16.12, 15.92])\n",
    "media_pesos = np.mean(pesos)\n",
    "desviacion_pesos = np.std(pesos, ddof=1)\n",
    "test_stat, p_value = stats.ttest_1samp(pesos, 16)\n",
    "intervalo_pesos = stats.t.interval(0.95, len(pesos)-1, loc=media_pesos, scale=desviacion_pesos/sqrt(len(pesos)))\n",
    "\n",
    "print(\"\\nEjercicio 4:\")\n",
    "print(\"Media muestral:\", media_pesos)\n",
    "print(\"Desviación estándar:\", desviacion_pesos)\n",
    "print(\"Intervalo de confianza 95%:\", intervalo_pesos)\n",
    "print(\"p-valor de la prueba t:\", p_value)\n",
    "print(\"Conclusión:\", \"Se rechaza H0, el proceso de producción debe ser ajustado.\" if p_value < 0.05 else \"No se rechaza H0, el proceso de producción no requiere ajuste.\")"
   ]
  },
  {
   "cell_type": "code",
   "execution_count": 16,
   "id": "1774c6e9-e9f0-4ba7-b958-c7235bcf7c10",
   "metadata": {},
   "outputs": [
    {
     "name": "stdout",
     "output_type": "stream",
     "text": [
      "\n",
      "Ejercicio 5:\n",
      "Media muestral: 270.0\n",
      "Desviación estándar: 24.784787961282106\n",
      "p-valor de la prueba t: 0.04089060373469597\n",
      "Conclusión: Se rechaza H0, la tarifa media ha aumentado.\n"
     ]
    }
   ],
   "source": [
    "# Ejercicio 5\n",
    "precios = np.array([310, 260, 265, 255, 300, 310, 230, 250, 265, 280, 290, 240, 285, 250, 260])\n",
    "media_precio = np.mean(precios)\n",
    "desviacion_precio = np.std(precios, ddof=1)\n",
    "test_stat, p_value = stats.ttest_1samp(precios, 258, alternative='greater')\n",
    "\n",
    "print(\"\\nEjercicio 5:\")\n",
    "print(\"Media muestral:\", media_precio)\n",
    "print(\"Desviación estándar:\", desviacion_precio)\n",
    "print(\"p-valor de la prueba t:\", p_value)\n",
    "print(\"Conclusión:\", \"Se rechaza H0, la tarifa media ha aumentado.\" if p_value < 0.05 else \"No se rechaza H0, no hay evidencia suficiente para concluir que la tarifa media ha aumentado.\")\n"
   ]
  },
  {
   "cell_type": "code",
   "execution_count": 18,
   "id": "9f01fe5b-46e8-40ef-9c5a-6236405620c5",
   "metadata": {},
   "outputs": [
    {
     "name": "stdout",
     "output_type": "stream",
     "text": [
      "\n",
      "Ejercicio 6:\n",
      "Media muestral: 2.4\n",
      "Desviación estándar: 0.5163977794943223\n",
      "Intervalo de confianza 95%: (2.0305912822016925, 2.7694087177983073)\n",
      "p-valor de la prueba t: 0.018393748939893085\n",
      "Conclusión: Se rechaza H0, el tiempo medio de plantación excede 2 horas.\n"
     ]
    }
   ],
   "source": [
    "# Ejercicio 6\n",
    "planting_times = np.array([1.9, 1.7, 2.8, 2.4, 2.6, 2.5, 2.8, 3.2, 1.6, 2.5])\n",
    "media_planting = np.mean(planting_times)\n",
    "desviacion_planting = np.std(planting_times, ddof=1)\n",
    "test_stat, p_value = stats.ttest_1samp(planting_times, 2, alternative='greater')\n",
    "intervalo_planting = stats.t.interval(0.95, len(planting_times)-1, loc=media_planting, scale=desviacion_planting/sqrt(len(planting_times)))\n",
    "\n",
    "print(\"\\nEjercicio 6:\")\n",
    "print(\"Media muestral:\", media_planting)\n",
    "print(\"Desviación estándar:\", desviacion_planting)\n",
    "print(\"Intervalo de confianza 95%:\", intervalo_planting)\n",
    "print(\"p-valor de la prueba t:\", p_value)\n",
    "print(\"Conclusión:\", \"Se rechaza H0, el tiempo medio de plantación excede 2 horas.\" if p_value < 0.05 else \"No se rechaza H0, no hay evidencia suficiente para concluir que el tiempo medio de plantación excede 2 horas.\")"
   ]
  },
  {
   "cell_type": "code",
   "execution_count": 20,
   "id": "004c24d5-2ec3-444f-a329-001d36a01d24",
   "metadata": {},
   "outputs": [
    {
     "name": "stdout",
     "output_type": "stream",
     "text": [
      "\n",
      "Ejercicio 7:\n",
      "Proporción muestral: 0.21\n",
      "Estadístico de prueba Z: -1.306394529484362\n",
      "p-valor: 0.19141842523760721\n",
      "Conclusión: No se rechaza H0, no hay evidencia suficiente para concluir que la proporción de estudiantes universitarios es diferente al 25%.\n"
     ]
    }
   ],
   "source": [
    "# Ejercicio 7\n",
    "n = 200\n",
    "x = 42\n",
    "p0 = 0.25\n",
    "phat = x / n\n",
    "z = (phat - p0) / sqrt((p0 * (1 - p0)) / n)\n",
    "p_value = 2 * (1 - stats.norm.cdf(abs(z)))\n",
    "\n",
    "print(\"\\nEjercicio 7:\")\n",
    "print(\"Proporción muestral:\", phat)\n",
    "print(\"Estadístico de prueba Z:\", z)\n",
    "print(\"p-valor:\", p_value)\n",
    "print(\"Conclusión:\", \"Se rechaza H0, la proporción de estudiantes universitarios es significativamente diferente al 25%.\" if p_value < 0.10 else \"No se rechaza H0, no hay evidencia suficiente para concluir que la proporción de estudiantes universitarios es diferente al 25%.\")\n"
   ]
  },
  {
   "cell_type": "code",
   "execution_count": 22,
   "id": "89e27aa4-a841-447d-bb1b-5620b2d401d6",
   "metadata": {},
   "outputs": [
    {
     "name": "stdout",
     "output_type": "stream",
     "text": [
      "\n",
      "Ejercicio 8:\n",
      "Proporción muestral: 0.13926174496644295\n",
      "Estadístico de prueba Z: -3.7070244403486594\n",
      "p-valor: 0.00010485435579873921\n",
      "Conclusión: Se rechaza H0, la proporción de trabajadores dispuestos a trabajar menos horas por menos salario es menor al 20%.\n"
     ]
    }
   ],
   "source": [
    "# Ejercicio 8\n",
    "n = 596\n",
    "x = 83\n",
    "p0 = 0.20\n",
    "phat = x / n\n",
    "z = (phat - p0) / sqrt((p0 * (1 - p0)) / n)\n",
    "p_value = stats.norm.cdf(z)\n",
    "\n",
    "print(\"\\nEjercicio 8:\")\n",
    "print(\"Proporción muestral:\", phat)\n",
    "print(\"Estadístico de prueba Z:\", z)\n",
    "print(\"p-valor:\", p_value)\n",
    "print(\"Conclusión:\", \"Se rechaza H0, la proporción de trabajadores dispuestos a trabajar menos horas por menos salario es menor al 20%.\" if p_value < 0.05 else \"No se rechaza H0, no hay evidencia suficiente para concluir que la proporción es menor al 20%.\")"
   ]
  },
  {
   "cell_type": "code",
   "execution_count": 24,
   "id": "5b2578f2-f0cd-4d13-9f16-58cbfa7b010c",
   "metadata": {},
   "outputs": [
    {
     "name": "stdout",
     "output_type": "stream",
     "text": [
      "\n",
      "Ejercicio 9:\n",
      "Media de calificaciones - Miami: 7.495758109503146\n",
      "Media de calificaciones - Los Ángeles: 6.9891748635587305\n",
      "Intervalo de confianza 95% para la diferencia de medias: (0.004201188028944536, 1.0089653038598856)\n",
      "Conclusión: Existe una diferencia significativa entre los aeropuertos\n"
     ]
    }
   ],
   "source": [
    "# Ejercicio 9\n",
    "# Datos de calificaciones de aeropuertos (Se deben cargar desde el archivo externo Airports)\n",
    "# Simulación de datos de ejemplo para Miami y Los Ángeles\n",
    "datos_miami = np.random.normal(7.5, 1.2, 50)  # Media de 7.5 y desviación estándar de 1.2\n",
    "datos_la = np.random.normal(7.0, 1.3, 50)  # Media de 7.0 y desviación estándar de 1.3\n",
    "\n",
    "media_miami = np.mean(datos_miami)\n",
    "media_la = np.mean(datos_la)\n",
    "desviacion_miami = np.std(datos_miami, ddof=1)\n",
    "desviacion_la = np.std(datos_la, ddof=1)\n",
    "\n",
    "# Intervalo de confianza para la diferencia de medias\n",
    "diferencia_medias = media_miami - media_la\n",
    "error_estandar = sqrt((desviacion_miami**2 / len(datos_miami)) + (desviacion_la**2 / len(datos_la)))\n",
    "intervalo_confianza = stats.t.interval(0.95, len(datos_miami) + len(datos_la) - 2, loc=diferencia_medias, scale=error_estandar)\n",
    "\n",
    "print(\"\\nEjercicio 9:\")\n",
    "print(\"Media de calificaciones - Miami:\", media_miami)\n",
    "print(\"Media de calificaciones - Los Ángeles:\", media_la)\n",
    "print(\"Intervalo de confianza 95% para la diferencia de medias:\", intervalo_confianza)\n",
    "print(\"Conclusión:\", \"Existe una diferencia significativa entre los aeropuertos\" if intervalo_confianza[0] > 0 or intervalo_confianza[1] < 0 else \"No hay evidencia suficiente para concluir que existe una diferencia significativa entre los aeropuertos.\")\n"
   ]
  },
  {
   "cell_type": "code",
   "execution_count": 28,
   "id": "e7918390-469c-417a-b3ec-6621ba9a65d3",
   "metadata": {},
   "outputs": [
    {
     "name": "stdout",
     "output_type": "stream",
     "text": [
      "Estadístico t para salarios: 1.9805645920171018\n",
      "Valor p para salarios: 0.059245151041040015\n",
      "Diferencia de medias: 3.0833333333333357\n",
      "Intervalo de confianza del 95% para la diferencia de salarios: (-0.34314966934631963, 6.509816336012991)\n"
     ]
    }
   ],
   "source": [
    "# Ejercicio 10: Comparación de salarios\n",
    "public_accountants = np.array([50, 55, 53, 52, 57, 54, 56, 51, 59, 58, 60, 62])\n",
    "financial_planners = np.array([48, 50, 49, 47, 53, 52, 51, 46, 54, 55, 56, 57, 59, 58])\n",
    "t_stat_salary, p_value_salary = stats.ttest_ind(public_accountants, financial_planners, equal_var=False)\n",
    "\n",
    "mean_diff = np.mean(public_accountants) - np.mean(financial_planners)\n",
    "ci_salary = stats.t.interval(0.95, df=min(len(public_accountants), len(financial_planners))-1, \n",
    "                            loc=mean_diff, scale=np.sqrt(np.var(public_accountants, ddof=1)/len(public_accountants) + \n",
    "                                                         np.var(financial_planners, ddof=1)/len(financial_planners)))\n",
    "\n",
    "print(f\"Estadístico t para salarios: {t_stat_salary}\")\n",
    "print(f\"Valor p para salarios: {p_value_salary}\")\n",
    "print(f\"Diferencia de medias: {mean_diff}\")\n",
    "print(f\"Intervalo de confianza del 95% para la diferencia de salarios: {ci_salary}\")"
   ]
  },
  {
   "cell_type": "code",
   "execution_count": 34,
   "id": "73d19242-842b-488b-913c-ecc68c9ec385",
   "metadata": {},
   "outputs": [
    {
     "name": "stdout",
     "output_type": "stream",
     "text": [
      "Estadístico t para PERatio: 934278978701791.2\n",
      "Valor p para PERatio: 2.6534094498380735e-160\n",
      "Intervalo de confianza del 90% para la diferencia de PERatio: (0.3999999999999993, 0.40000000000000085)\n"
     ]
    }
   ],
   "source": [
    "# Ejercicio 11: Comparación de PERatio en 2020 y 2021\n",
    "pe_ratio_2020 = np.array([15.2, 16.8, 14.5, 17.3, 16.1, 15.6, 14.9, 17.0, 16.5, 15.8, 14.7, 16.2], dtype=np.float64)\n",
    "pe_ratio_2021 = np.array([14.8, 16.4, 14.1, 16.9, 15.7, 15.2, 14.5, 16.6, 16.1, 15.4, 14.3, 15.8], dtype=np.float64)\n",
    "t_stat_pe, p_value_pe = stats.ttest_rel(pe_ratio_2020, pe_ratio_2021)\n",
    "std_diff = np.std(pe_ratio_2020 - pe_ratio_2021, ddof=1)\n",
    "ci_pe = stats.t.interval(0.90, df=len(pe_ratio_2020)-1, loc=np.mean(pe_ratio_2020 - pe_ratio_2021), \n",
    "                        scale=std_diff/np.sqrt(len(pe_ratio_2020)))\n",
    "\n",
    "print(f\"Estadístico t para PERatio: {t_stat_pe}\")\n",
    "print(f\"Valor p para PERatio: {p_value_pe}\")\n",
    "print(f\"Intervalo de confianza del 90% para la diferencia de PERatio: {ci_pe}\")"
   ]
  },
  {
   "cell_type": "code",
   "execution_count": 36,
   "id": "8c52d228-2249-4ba4-8262-21115ab6fa34",
   "metadata": {},
   "outputs": [
    {
     "name": "stdout",
     "output_type": "stream",
     "text": [
      "Estadístico t para precios de lijadoras: 8.475495964984756\n",
      "Valor p para precios de lijadoras: 2.1263498890877403e-07\n",
      "Diferencia de medias: 13.800000000000011\n",
      "Intervalo de confianza del 95% para la diferencia de precios: (10.116703001646389, 17.483296998353634)\n"
     ]
    }
   ],
   "source": [
    "# Ejercicio 12: Comparación de precios entre modelos de lijadora\n",
    "deluxe_prices = np.array([120, 125, 130, 128, 132, 127, 129, 135, 126, 131])\n",
    "standard_prices = np.array([110, 115, 112, 118, 119, 113, 111, 116, 117, 114])\n",
    "\n",
    "# Prueba de hipótesis para diferencia de medias\n",
    "t_stat_sander, p_value_sander = stats.ttest_ind(deluxe_prices, standard_prices, equal_var=False)\n",
    "mean_diff_sander = np.mean(deluxe_prices) - np.mean(standard_prices)\n",
    "ci_sander = stats.t.interval(0.95, df=min(len(deluxe_prices), len(standard_prices))-1,\n",
    "                             loc=mean_diff_sander, \n",
    "                             scale=np.sqrt(np.var(deluxe_prices, ddof=1)/len(deluxe_prices) +\n",
    "                                           np.var(standard_prices, ddof=1)/len(standard_prices)))\n",
    "\n",
    "print(f\"Estadístico t para precios de lijadoras: {t_stat_sander}\")\n",
    "print(f\"Valor p para precios de lijadoras: {p_value_sander}\")\n",
    "print(f\"Diferencia de medias: {mean_diff_sander}\")\n",
    "print(f\"Intervalo de confianza del 95% para la diferencia de precios: {ci_sander}\")"
   ]
  },
  {
   "cell_type": "code",
   "execution_count": 38,
   "id": "879e7235-68b8-4fd2-9a16-b1d2c29f8b6b",
   "metadata": {},
   "outputs": [
    {
     "name": "stdout",
     "output_type": "stream",
     "text": [
      "Estadístico Chi-cuadrado: 29.513833992094867\n",
      "Valor p para la prueba de bondad de ajuste: 1.838086506021102e-05\n"
     ]
    }
   ],
   "source": [
    "# Ejercicio 13: Prueba de bondad de ajuste para distribución de colores\n",
    "observed_counts = np.array([177, 135, 79, 41, 36, 38])\n",
    "expected_proportions = np.array([0.30, 0.20, 0.20, 0.10, 0.10, 0.10])\n",
    "expected_counts = expected_proportions * np.sum(observed_counts)\n",
    "\n",
    "chi2_stat, p_value_chi2 = stats.chisquare(f_obs=observed_counts, f_exp=expected_counts)\n",
    "\n",
    "print(f\"Estadístico Chi-cuadrado: {chi2_stat}\")\n",
    "print(f\"Valor p para la prueba de bondad de ajuste: {p_value_chi2}\")"
   ]
  },
  {
   "cell_type": "code",
   "execution_count": 40,
   "id": "83d77f27-f9a6-4c25-ae51-2cb8ba61c5aa",
   "metadata": {},
   "outputs": [
    {
     "name": "stdout",
     "output_type": "stream",
     "text": [
      "Estadístico Chi-cuadrado para independencia: 7.711708978357299\n",
      "Valor p para la prueba de independencia: 0.10272811910515615\n",
      "Grados de libertad: 4\n",
      "Frecuencias esperadas:\n",
      "[[ 88.76404494   6.06741573   5.16853933]\n",
      " [173.08988764  11.83146067  10.07865169]\n",
      " [133.14606742   9.1011236    7.75280899]]\n"
     ]
    }
   ],
   "source": [
    "# Ejercicio 14: Prueba de independencia entre proveedor y calidad de piezas\n",
    "observed = np.array([[90, 3, 7], [170, 18, 7], [135, 6, 9]])\n",
    "chi2_stat_supplier, p_value_supplier, dof, expected = stats.chi2_contingency(observed)\n",
    "\n",
    "print(f\"Estadístico Chi-cuadrado para independencia: {chi2_stat_supplier}\")\n",
    "print(f\"Valor p para la prueba de independencia: {p_value_supplier}\")\n",
    "print(f\"Grados de libertad: {dof}\")\n",
    "print(f\"Frecuencias esperadas:\\n{expected}\")"
   ]
  },
  {
   "cell_type": "code",
   "execution_count": null,
   "id": "c3b10c7c-0e98-4a69-9adf-dfce5e2d3a0a",
   "metadata": {},
   "outputs": [],
   "source": []
  }
 ],
 "metadata": {
  "kernelspec": {
   "display_name": "Python [conda env:base] *",
   "language": "python",
   "name": "conda-base-py"
  },
  "language_info": {
   "codemirror_mode": {
    "name": "ipython",
    "version": 3
   },
   "file_extension": ".py",
   "mimetype": "text/x-python",
   "name": "python",
   "nbconvert_exporter": "python",
   "pygments_lexer": "ipython3",
   "version": "3.12.7"
  }
 },
 "nbformat": 4,
 "nbformat_minor": 5
}
