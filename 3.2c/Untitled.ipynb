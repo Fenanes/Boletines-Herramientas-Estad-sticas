{
 "cells": [
  {
   "cell_type": "code",
   "execution_count": 2,
   "id": "b8278cd1-f055-4a7d-abdd-d84a5c7ec8bf",
   "metadata": {},
   "outputs": [],
   "source": [
    "from sklearn.datasets import make_classification\n",
    "from sklearn.model_selection import train_test_split\n",
    "from xgboost import XGBClassifier\n",
    "from sklearn.metrics import confusion_matrix, classification_report\n",
    "import numpy as np"
   ]
  },
  {
   "cell_type": "markdown",
   "id": "0aab10e5-ed2c-4435-a5ee-a1b143a0fb35",
   "metadata": {},
   "source": [
    "### Clasificación binaria desbalanceada con XGBoost"
   ]
  },
  {
   "cell_type": "code",
   "execution_count": 12,
   "id": "37e9e3bc-143d-4a00-bce7-f2f071ad6690",
   "metadata": {},
   "outputs": [
    {
     "name": "stdout",
     "output_type": "stream",
     "text": [
      "Confusion Matrix:\n",
      "[[15221   640]\n",
      " [ 1388  2751]]\n",
      "\n",
      "Classification Report:\n",
      "              precision    recall  f1-score   support\n",
      "\n",
      "           0       0.92      0.96      0.94     15861\n",
      "           1       0.81      0.66      0.73      4139\n",
      "\n",
      "    accuracy                           0.90     20000\n",
      "   macro avg       0.86      0.81      0.83     20000\n",
      "weighted avg       0.89      0.90      0.89     20000\n",
      "\n"
     ]
    }
   ],
   "source": [
    "# Generate an imbalanced synthetic dataset\n",
    "X, y = make_classification(n_samples=100000, n_classes=2, weights=[0.80, 0.20], random_state=42)\n",
    "y[:20]\n",
    "# Split into training and test sets\n",
    "X_train, X_test, y_train, y_test = train_test_split(X, y, test_size=0.2, random_state=42)\n",
    "\n",
    "# Initialize XGBClassifier without considering imbalanced data\n",
    "model = XGBClassifier(\n",
    "    n_estimators=100,\n",
    "    objective='binary:logistic',\n",
    "    random_state=42\n",
    ")\n",
    "\n",
    "# Fit the model using train data\n",
    "model.fit(X_train, y_train)\n",
    "\n",
    "# Generate predictions using test data\n",
    "predictions = model.predict(X_test)\n",
    "\n",
    "# Evaluate the model using test data\n",
    "print('Confusion Matrix:')\n",
    "print(confusion_matrix(y_test, predictions))\n",
    "print('\\nClassification Report:')\n",
    "print(classification_report(y_test, predictions))"
   ]
  },
  {
   "cell_type": "code",
   "execution_count": 16,
   "id": "5c3ab335-d1a2-42cf-8a9b-64ecc4fddd6b",
   "metadata": {},
   "outputs": [
    {
     "name": "stdout",
     "output_type": "stream",
     "text": [
      "Confusion Matrix:\n",
      "[[13977  1884]\n",
      " [  638  3501]]\n",
      "\n",
      "Classification Report:\n",
      "              precision    recall  f1-score   support\n",
      "\n",
      "           0       0.96      0.88      0.92     15861\n",
      "           1       0.65      0.85      0.74      4139\n",
      "\n",
      "    accuracy                           0.87     20000\n",
      "   macro avg       0.80      0.86      0.83     20000\n",
      "weighted avg       0.89      0.87      0.88     20000\n",
      "\n"
     ]
    }
   ],
   "source": [
    "# Compute the positive class weight\n",
    "scale_pos_weight = (y_train == 0).sum() / (y_train == 1).sum()\n",
    "\n",
    "# Initialize XGBClassifier with scale_pos_weight and max_delta_step\n",
    "model = XGBClassifier(\n",
    "    n_estimators=100,\n",
    "    objective='binary:logistic',\n",
    "    scale_pos_weight=scale_pos_weight,\n",
    "    random_state=42\n",
    ")\n",
    "\n",
    "# Fit the model using train data\n",
    "model.fit(X_train, y_train)\n",
    "\n",
    "# Generate predictions using test data\n",
    "predictions = model.predict(X_test)\n",
    "\n",
    "# Evaluate the model using test data\n",
    "print(\"Confusion Matrix:\")\n",
    "print(confusion_matrix(y_test, predictions))\n",
    "print(\"\\nClassification Report:\")\n",
    "print(classification_report(y_test, predictions))\n",
    "\n"
   ]
  },
  {
   "cell_type": "markdown",
   "id": "fbca5f68-78e8-45c1-9586-2f3b79d07929",
   "metadata": {},
   "source": [
    "### XGBoost con CV y ES"
   ]
  },
  {
   "cell_type": "code",
   "execution_count": 19,
   "id": "a1acd592-5f37-4635-8936-973d1c7124c1",
   "metadata": {},
   "outputs": [
    {
     "name": "stdout",
     "output_type": "stream",
     "text": [
      "Synthetic data has been randomly generated\n",
      "First 20 labels of y: [1 0 0 1 1 1 0 1 1 0 0 1 0 1 1 0 1 1 1 0]\n"
     ]
    }
   ],
   "source": [
    "import xgboost as xgb\n",
    "import numpy as np\n",
    "from sklearn.datasets import make_classification\n",
    "from sklearn.model_selection import train_test_split\n",
    "from sklearn.model_selection import StratifiedKFold\n",
    "from sklearn.metrics import accuracy_score, f1_score, roc_auc_score\n",
    "\n",
    "# Create a synthetic dataset\n",
    "X, y = make_classification(n_samples=10000, n_features=20, n_informative=2, n_redundant=10, random_state=42)\n",
    "print('Synthetic data has been randomly generated')\n",
    "print('First 20 labels of y:', y[:20])\n"
   ]
  },
  {
   "cell_type": "code",
   "execution_count": 21,
   "id": "1f7f2497-abb4-4329-8891-3c1264d3ae62",
   "metadata": {},
   "outputs": [
    {
     "name": "stdout",
     "output_type": "stream",
     "text": [
      "CV avg. accuracy: 0.937\n",
      "CV avg. f1-score: 0.938\n",
      "CV avg. roc auc: 0.974\n"
     ]
    }
   ],
   "source": [
    "# Initialize lists to store scores\n",
    "accuracy_scores = []\n",
    "f1_scores = []\n",
    "roc_auc_scores = []\n",
    "\n",
    "# Perform cross-validation with early stopping\n",
    "for train_index, test_index in StratifiedKFold(n_splits=5, shuffle=True, random_state=42).split(X, y):\n",
    "    # Split data into train and test folds\n",
    "    X_train_fold, X_test_fold = X[train_index], X[test_index]\n",
    "    y_train_fold, y_test_fold = y[train_index], y[test_index]\n",
    "\n",
    "    # Further split the train fold into a training set and a validation set\n",
    "    X_train_fold, X_val, y_train_fold, y_val = train_test_split(X_train_fold, y_train_fold, test_size=0.2, random_state=42)\n",
    "\n",
    "    # Prepare the model\n",
    "    model = xgb.XGBClassifier(n_estimators=100, learning_rate=0.1, objective='binary:logistic',\n",
    "                              early_stopping_rounds=10, random_state=42)\n",
    "\n",
    "    # Train the model using the training set and validate on the validation set\n",
    "    model.fit(X_train_fold, y_train_fold, eval_set=[(X_val, y_val)], verbose=False)\n",
    "\n",
    "    # Predict on the test fold\n",
    "    y_pred_test = model.predict(X_test_fold)\n",
    "    y_pred_proba_test = model.predict_proba(X_test_fold)[:, 1]  # Probability estimates for ROC AUC\n",
    "\n",
    "    # Calculate scores\n",
    "    accuracy = accuracy_score(y_test_fold, y_pred_test)\n",
    "    f1 = f1_score(y_test_fold, y_pred_test)\n",
    "    roc_auc = roc_auc_score(y_test_fold, y_pred_proba_test)\n",
    "\n",
    "    # Append scores to the lists\n",
    "    accuracy_scores.append(accuracy)\n",
    "    f1_scores.append(f1)\n",
    "    roc_auc_scores.append(roc_auc)\n",
    "\n",
    "# Print average scores\n",
    "print(f\"CV avg. accuracy: {np.mean(accuracy_scores):.3f}\")\n",
    "print(f\"CV avg. f1-score: {np.mean(f1_scores):.3f}\")\n",
    "print(f\"CV avg. roc auc: {np.mean(roc_auc_scores):.3f}\")\n"
   ]
  },
  {
   "cell_type": "code",
   "execution_count": null,
   "id": "94a6e1f8-7973-4529-936d-1a5747278fb3",
   "metadata": {},
   "outputs": [],
   "source": []
  }
 ],
 "metadata": {
  "kernelspec": {
   "display_name": "Python [conda env:base] *",
   "language": "python",
   "name": "conda-base-py"
  },
  "language_info": {
   "codemirror_mode": {
    "name": "ipython",
    "version": 3
   },
   "file_extension": ".py",
   "mimetype": "text/x-python",
   "name": "python",
   "nbconvert_exporter": "python",
   "pygments_lexer": "ipython3",
   "version": "3.12.7"
  }
 },
 "nbformat": 4,
 "nbformat_minor": 5
}
