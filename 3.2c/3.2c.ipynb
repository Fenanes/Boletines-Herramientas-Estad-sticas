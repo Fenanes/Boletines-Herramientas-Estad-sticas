{
 "cells": [
  {
   "cell_type": "code",
   "execution_count": 1,
   "id": "b8278cd1-f055-4a7d-abdd-d84a5c7ec8bf",
   "metadata": {},
   "outputs": [],
   "source": [
    "from sklearn.datasets import make_classification\n",
    "from sklearn.model_selection import train_test_split\n",
    "from xgboost import XGBClassifier\n",
    "from sklearn.metrics import confusion_matrix, classification_report\n",
    "import numpy as np\n",
    "import pandas as pd\n",
    "from sklearn.datasets import fetch_openml\n",
    "from sklearn.model_selection import train_test_split\n",
    "from sklearn.preprocessing import OrdinalEncoder, LabelEncoder\n",
    "from sklearn.compose import ColumnTransformer\n",
    "from collections import Counter\n",
    "from sklearn.metrics import accuracy_score, f1_score, roc_auc_score\n",
    "from sklearn.metrics import confusion_matrix, classification_report, roc_curve, auc\n",
    "import matplotlib.pyplot as plt\n",
    "import seaborn as sns\n",
    "import joblib"
   ]
  },
  {
   "cell_type": "markdown",
   "id": "0aab10e5-ed2c-4435-a5ee-a1b143a0fb35",
   "metadata": {},
   "source": [
    "### Clasificación binaria desbalanceada con XGBoost"
   ]
  },
  {
   "cell_type": "code",
   "execution_count": 12,
   "id": "37e9e3bc-143d-4a00-bce7-f2f071ad6690",
   "metadata": {},
   "outputs": [
    {
     "name": "stdout",
     "output_type": "stream",
     "text": [
      "Confusion Matrix:\n",
      "[[15221   640]\n",
      " [ 1388  2751]]\n",
      "\n",
      "Classification Report:\n",
      "              precision    recall  f1-score   support\n",
      "\n",
      "           0       0.92      0.96      0.94     15861\n",
      "           1       0.81      0.66      0.73      4139\n",
      "\n",
      "    accuracy                           0.90     20000\n",
      "   macro avg       0.86      0.81      0.83     20000\n",
      "weighted avg       0.89      0.90      0.89     20000\n",
      "\n"
     ]
    }
   ],
   "source": [
    "# Generate an imbalanced synthetic dataset\n",
    "X, y = make_classification(n_samples=100000, n_classes=2, weights=[0.80, 0.20], random_state=42)\n",
    "y[:20]\n",
    "# Split into training and test sets\n",
    "X_train, X_test, y_train, y_test = train_test_split(X, y, test_size=0.2, random_state=42)\n",
    "\n",
    "# Initialize XGBClassifier without considering imbalanced data\n",
    "model = XGBClassifier(\n",
    "    n_estimators=100,\n",
    "    objective='binary:logistic',\n",
    "    random_state=42\n",
    ")\n",
    "\n",
    "# Fit the model using train data\n",
    "model.fit(X_train, y_train)\n",
    "\n",
    "# Generate predictions using test data\n",
    "predictions = model.predict(X_test)\n",
    "\n",
    "# Evaluate the model using test data\n",
    "print('Confusion Matrix:')\n",
    "print(confusion_matrix(y_test, predictions))\n",
    "print('\\nClassification Report:')\n",
    "print(classification_report(y_test, predictions))"
   ]
  },
  {
   "cell_type": "markdown",
   "id": "426a147a-3b65-4549-b7d6-f5a901a465c9",
   "metadata": {},
   "source": [
    "### Comentario:\n",
    "En esta primera comparación, el modelo de clasificación muestra una **matriz de confusión** donde se observa un buen rendimiento general: 15.221 verdaderos negativos y 2.751 verdaderos positivos. Sin embargo, el modelo incurre en 640 falsos positivos y 1.388 falsos negativos.\n",
    "\n",
    "El **informe de clasificación** revela que:\n",
    "- La clase 0 (predicción negativa) tiene una precisión de 0.92 y un recall de 0.96, lo que indica que el modelo predice muy bien los casos negativos.\n",
    "- La clase 1 (predicción positiva), sin embargo, tiene una precisión de 0.81 y un recall de 0.66. Esto indica que el modelo es menos eficaz en identificar correctamente los positivos.\n",
    "\n",
    "Desde un punto de vista teórico, esto sugiere un modelo con un **sesgo hacia la clase mayoritaria**, algo común cuando hay **desbalance de clases**. El accuracy total es alto (0.90), pero esto puede ser engañoso: se debe prestar atención a métricas como el **F1-score** (0.73 para la clase 1), que ofrece un mejor equilibrio entre precisión y exhaustividad para datos desbalanceados.\n"
   ]
  },
  {
   "cell_type": "code",
   "execution_count": 16,
   "id": "5c3ab335-d1a2-42cf-8a9b-64ecc4fddd6b",
   "metadata": {},
   "outputs": [
    {
     "name": "stdout",
     "output_type": "stream",
     "text": [
      "Confusion Matrix:\n",
      "[[13977  1884]\n",
      " [  638  3501]]\n",
      "\n",
      "Classification Report:\n",
      "              precision    recall  f1-score   support\n",
      "\n",
      "           0       0.96      0.88      0.92     15861\n",
      "           1       0.65      0.85      0.74      4139\n",
      "\n",
      "    accuracy                           0.87     20000\n",
      "   macro avg       0.80      0.86      0.83     20000\n",
      "weighted avg       0.89      0.87      0.88     20000\n",
      "\n"
     ]
    }
   ],
   "source": [
    "# Compute the positive class weight\n",
    "scale_pos_weight = (y_train == 0).sum() / (y_train == 1).sum()\n",
    "\n",
    "# Initialize XGBClassifier with scale_pos_weight and max_delta_step\n",
    "model = XGBClassifier(\n",
    "    n_estimators=100,\n",
    "    objective='binary:logistic',\n",
    "    scale_pos_weight=scale_pos_weight,\n",
    "    random_state=42\n",
    ")\n",
    "\n",
    "# Fit the model using train data\n",
    "model.fit(X_train, y_train)\n",
    "\n",
    "# Generate predictions using test data\n",
    "predictions = model.predict(X_test)\n",
    "\n",
    "# Evaluate the model using test data\n",
    "print(\"Confusion Matrix:\")\n",
    "print(confusion_matrix(y_test, predictions))\n",
    "print(\"\\nClassification Report:\")\n",
    "print(classification_report(y_test, predictions))\n",
    "\n"
   ]
  },
  {
   "cell_type": "markdown",
   "id": "3e9d69a6-269e-47f3-93cb-352a308d6ed9",
   "metadata": {},
   "source": [
    "### Comentario:\n",
    "En esta segunda evaluación, observamos una mejora clara en la detección de la clase minoritaria (positiva). El número de verdaderos positivos sube a 3.501, mientras que los falsos negativos disminuyen a 638. Aunque hay un aumento de falsos positivos (1.884), el trade-off parece favorable.\n",
    "\n",
    "En las métricas:\n",
    "- La clase 1 ahora tiene un **recall de 0.85** (frente a 0.66 previamente), lo cual es crucial si el objetivo es **minimizar falsos negativos**.\n",
    "- La precisión de la clase 1 disminuye a 0.65, lo que implica más falsos positivos, pero se compensa por una mejora en el **F1-score** (0.74).\n",
    "\n",
    "Este comportamiento es típico cuando se **ajusta el umbral de decisión** o se utiliza una **técnica de balanceo de clases**, como sobremuestreo o penalización. La precisión general cae ligeramente (0.87), pero el rendimiento sobre la clase minoritaria mejora, lo que puede ser más deseable dependiendo del contexto (por ejemplo, detección de fraude o enfermedades).\n"
   ]
  },
  {
   "cell_type": "markdown",
   "id": "fbca5f68-78e8-45c1-9586-2f3b79d07929",
   "metadata": {},
   "source": [
    "### XGBoost con CV y ES"
   ]
  },
  {
   "cell_type": "code",
   "execution_count": 19,
   "id": "a1acd592-5f37-4635-8936-973d1c7124c1",
   "metadata": {},
   "outputs": [
    {
     "name": "stdout",
     "output_type": "stream",
     "text": [
      "Synthetic data has been randomly generated\n",
      "First 20 labels of y: [1 0 0 1 1 1 0 1 1 0 0 1 0 1 1 0 1 1 1 0]\n"
     ]
    }
   ],
   "source": [
    "import xgboost as xgb\n",
    "import numpy as np\n",
    "from sklearn.datasets import make_classification\n",
    "from sklearn.model_selection import train_test_split\n",
    "from sklearn.model_selection import StratifiedKFold\n",
    "from sklearn.metrics import accuracy_score, f1_score, roc_auc_score\n",
    "\n",
    "# Create a synthetic dataset\n",
    "X, y = make_classification(n_samples=10000, n_features=20, n_informative=2, n_redundant=10, random_state=42)\n",
    "print('Synthetic data has been randomly generated')\n",
    "print('First 20 labels of y:', y[:20])\n"
   ]
  },
  {
   "cell_type": "code",
   "execution_count": 21,
   "id": "1f7f2497-abb4-4329-8891-3c1264d3ae62",
   "metadata": {},
   "outputs": [
    {
     "name": "stdout",
     "output_type": "stream",
     "text": [
      "CV avg. accuracy: 0.937\n",
      "CV avg. f1-score: 0.938\n",
      "CV avg. roc auc: 0.974\n"
     ]
    }
   ],
   "source": [
    "# Initialize lists to store scores\n",
    "accuracy_scores = []\n",
    "f1_scores = []\n",
    "roc_auc_scores = []\n",
    "\n",
    "# Perform cross-validation with early stopping\n",
    "for train_index, test_index in StratifiedKFold(n_splits=5, shuffle=True, random_state=42).split(X, y):\n",
    "    # Split data into train and test folds\n",
    "    X_train_fold, X_test_fold = X[train_index], X[test_index]\n",
    "    y_train_fold, y_test_fold = y[train_index], y[test_index]\n",
    "\n",
    "    # Further split the train fold into a training set and a validation set\n",
    "    X_train_fold, X_val, y_train_fold, y_val = train_test_split(X_train_fold, y_train_fold, test_size=0.2, random_state=42)\n",
    "\n",
    "    # Prepare the model\n",
    "    model = xgb.XGBClassifier(n_estimators=100, learning_rate=0.1, objective='binary:logistic',\n",
    "                              early_stopping_rounds=10, random_state=42)\n",
    "\n",
    "    # Train the model using the training set and validate on the validation set\n",
    "    model.fit(X_train_fold, y_train_fold, eval_set=[(X_val, y_val)], verbose=False)\n",
    "\n",
    "    # Predict on the test fold\n",
    "    y_pred_test = model.predict(X_test_fold)\n",
    "    y_pred_proba_test = model.predict_proba(X_test_fold)[:, 1]  # Probability estimates for ROC AUC\n",
    "\n",
    "    # Calculate scores\n",
    "    accuracy = accuracy_score(y_test_fold, y_pred_test)\n",
    "    f1 = f1_score(y_test_fold, y_pred_test)\n",
    "    roc_auc = roc_auc_score(y_test_fold, y_pred_proba_test)\n",
    "\n",
    "    # Append scores to the lists\n",
    "    accuracy_scores.append(accuracy)\n",
    "    f1_scores.append(f1)\n",
    "    roc_auc_scores.append(roc_auc)\n",
    "\n",
    "# Print average scores\n",
    "print(f\"CV avg. accuracy: {np.mean(accuracy_scores):.3f}\")\n",
    "print(f\"CV avg. f1-score: {np.mean(f1_scores):.3f}\")\n",
    "print(f\"CV avg. roc auc: {np.mean(roc_auc_scores):.3f}\")\n"
   ]
  },
  {
   "cell_type": "markdown",
   "id": "f994e395-6e16-4aee-ad02-29c54941b11d",
   "metadata": {},
   "source": [
    "### Comentario:\n",
    "En este ejercicio se trabajó con datos sintéticos generados aleatoriamente. Las primeras 20 etiquetas de `y` muestran una mezcla equilibrada de clases 0 y 1. Este tipo de simulaciones son útiles para validar el comportamiento de los modelos en contextos controlados donde no hay sesgo en los datos, lo que permite analizar el rendimiento \"ideal\" del modelo antes de aplicarlo a casos reales.\n",
    "\n",
    "Desde el punto de vista teórico, utilizar datos generados artificialmente permite mantener constante el nivel de ruido y la distribución de clases, lo que es clave para evaluar algoritmos de aprendizaje supervisado sin interferencia de sesgos de muestreo.\n",
    "\n",
    "El modelo evaluado mediante validación cruzada obtuvo métricas muy sólidas:\n",
    "- **Accuracy promedio: 0.937**\n",
    "- **F1-score promedio: 0.938**\n",
    "- **AUC-ROC promedio: 0.974**\n",
    "\n",
    "Estos resultados indican un **modelo altamente eficaz**, tanto en precisión como en discriminación entre clases. En particular, el AUC-ROC de 0.974 sugiere que el modelo distingue muy bien entre clases, incluso en distintos umbrales de decisión. El alto F1-score, que balancea precisión y recall, también refuerza esta conclusión.\n",
    "\n",
    "Desde una perspectiva teórica, la validación cruzada (CV) proporciona una estimación más robusta del rendimiento del modelo al evitar el sobreajuste y evaluar la generalización. Estos valores sugieren que el modelo está bien ajustado y es confiable, al menos en este contexto sintético.\n"
   ]
  },
  {
   "cell_type": "markdown",
   "id": "0950af80-eccd-450e-80f1-ae2207df4054",
   "metadata": {},
   "source": [
    "### XGBoost con codificación y ES"
   ]
  },
  {
   "cell_type": "code",
   "execution_count": 4,
   "id": "ff366ad3-3052-4701-bb5c-f6d5e923890c",
   "metadata": {},
   "outputs": [
    {
     "name": "stdout",
     "output_type": "stream",
     "text": [
      "Parameter early_stopping has been set to: True\n"
     ]
    },
    {
     "data": {
      "text/html": [
       "<div>\n",
       "<style scoped>\n",
       "    .dataframe tbody tr th:only-of-type {\n",
       "        vertical-align: middle;\n",
       "    }\n",
       "\n",
       "    .dataframe tbody tr th {\n",
       "        vertical-align: top;\n",
       "    }\n",
       "\n",
       "    .dataframe thead th {\n",
       "        text-align: right;\n",
       "    }\n",
       "</style>\n",
       "<table border=\"1\" class=\"dataframe\">\n",
       "  <thead>\n",
       "    <tr style=\"text-align: right;\">\n",
       "      <th></th>\n",
       "      <th>age</th>\n",
       "      <th>workclass</th>\n",
       "      <th>fnlwgt</th>\n",
       "      <th>education</th>\n",
       "      <th>education-num</th>\n",
       "      <th>marital-status</th>\n",
       "      <th>occupation</th>\n",
       "      <th>relationship</th>\n",
       "      <th>race</th>\n",
       "      <th>sex</th>\n",
       "      <th>capitalgain</th>\n",
       "      <th>capitalloss</th>\n",
       "      <th>hoursperweek</th>\n",
       "      <th>native-country</th>\n",
       "      <th>target</th>\n",
       "    </tr>\n",
       "  </thead>\n",
       "  <tbody>\n",
       "    <tr>\n",
       "      <th>0</th>\n",
       "      <td>2</td>\n",
       "      <td>State-gov</td>\n",
       "      <td>77516</td>\n",
       "      <td>Bachelors</td>\n",
       "      <td>13</td>\n",
       "      <td>Never-married</td>\n",
       "      <td>Adm-clerical</td>\n",
       "      <td>Not-in-family</td>\n",
       "      <td>White</td>\n",
       "      <td>Male</td>\n",
       "      <td>1</td>\n",
       "      <td>0</td>\n",
       "      <td>2</td>\n",
       "      <td>United-States</td>\n",
       "      <td>&lt;=50K</td>\n",
       "    </tr>\n",
       "    <tr>\n",
       "      <th>1</th>\n",
       "      <td>3</td>\n",
       "      <td>Self-emp-not-inc</td>\n",
       "      <td>83311</td>\n",
       "      <td>Bachelors</td>\n",
       "      <td>13</td>\n",
       "      <td>Married-civ-spouse</td>\n",
       "      <td>Exec-managerial</td>\n",
       "      <td>Husband</td>\n",
       "      <td>White</td>\n",
       "      <td>Male</td>\n",
       "      <td>0</td>\n",
       "      <td>0</td>\n",
       "      <td>0</td>\n",
       "      <td>United-States</td>\n",
       "      <td>&lt;=50K</td>\n",
       "    </tr>\n",
       "    <tr>\n",
       "      <th>2</th>\n",
       "      <td>2</td>\n",
       "      <td>Private</td>\n",
       "      <td>215646</td>\n",
       "      <td>HS-grad</td>\n",
       "      <td>9</td>\n",
       "      <td>Divorced</td>\n",
       "      <td>Handlers-cleaners</td>\n",
       "      <td>Not-in-family</td>\n",
       "      <td>White</td>\n",
       "      <td>Male</td>\n",
       "      <td>0</td>\n",
       "      <td>0</td>\n",
       "      <td>2</td>\n",
       "      <td>United-States</td>\n",
       "      <td>&lt;=50K</td>\n",
       "    </tr>\n",
       "  </tbody>\n",
       "</table>\n",
       "</div>"
      ],
      "text/plain": [
       "  age         workclass  fnlwgt  education  education-num      marital-status  \\\n",
       "0   2         State-gov   77516  Bachelors             13       Never-married   \n",
       "1   3  Self-emp-not-inc   83311  Bachelors             13  Married-civ-spouse   \n",
       "2   2           Private  215646    HS-grad              9            Divorced   \n",
       "\n",
       "          occupation   relationship   race   sex capitalgain capitalloss  \\\n",
       "0       Adm-clerical  Not-in-family  White  Male           1           0   \n",
       "1    Exec-managerial        Husband  White  Male           0           0   \n",
       "2  Handlers-cleaners  Not-in-family  White  Male           0           0   \n",
       "\n",
       "  hoursperweek native-country target  \n",
       "0            2  United-States  <=50K  \n",
       "1            0  United-States  <=50K  \n",
       "2            2  United-States  <=50K  "
      ]
     },
     "execution_count": 4,
     "metadata": {},
     "output_type": "execute_result"
    }
   ],
   "source": [
    "# Set the notebook parameters\n",
    "early_stopping = True\n",
    "print('Parameter early_stopping has been set to:', early_stopping)\n",
    "\n",
    "# Load the Adult dataset\n",
    "adult = fetch_openml('adult', version=1, as_frame=True, parser='auto')\n",
    "df = pd.DataFrame(adult.data)\n",
    "df['target'] = adult.target  # Add the target variable to the DataFrame\n",
    "\n",
    "df.head(3)"
   ]
  },
  {
   "cell_type": "code",
   "execution_count": 6,
   "id": "9da71ae8-0704-465b-b772-0b9aa6920c52",
   "metadata": {},
   "outputs": [
    {
     "name": "stdout",
     "output_type": "stream",
     "text": [
      "X and y have been defined\n",
      "Dataset X shape: (48842, 14)\n",
      "Features: ['age', 'workclass', 'fnlwgt', 'education', 'education-num', 'marital-status', 'occupation', 'relationship', 'race', 'sex', 'capitalgain', 'capitalloss', 'hoursperweek', 'native-country']\n",
      "Target: ['class']\n",
      "Class distributions: Counter({'<=50K': 37155, '>50K': 11687})\n",
      "Categorical features in X have been encoded as ordinal\n"
     ]
    }
   ],
   "source": [
    "# Define features (X) and target (y)\n",
    "X = df.drop(columns='target')  # drop the target column to get features\n",
    "y = df['target']               # extract the target column\n",
    "print(\"X and y have been defined\")\n",
    "\n",
    "# Print key information about the dataset\n",
    "print(f\"Dataset X shape: {X.shape}\")\n",
    "print(f\"Features: {list(adult.feature_names)}\")\n",
    "print(f\"Target: {adult.target_names}\")\n",
    "print(f\"Class distributions: {Counter(y)}\")\n",
    "\n",
    "# Encode categorical features as 'category' dtype\n",
    "categorical_columns = ['workclass', 'education', 'marital-status', 'occupation', \n",
    "                       'relationship', 'race', 'sex', 'native-country']\n",
    "for col in categorical_columns:\n",
    "    X[col] = X[col].astype('category')\n",
    "\n",
    "transformer = ColumnTransformer(transformers=[('ordinal', OrdinalEncoder(), categorical_columns)],\n",
    "                                remainder='passthrough')\n",
    "\n",
    "# Perform ordinal encoding\n",
    "X = transformer.fit_transform(X)\n",
    "print(\"Categorical features in X have been encoded as ordinal\")\n"
   ]
  },
  {
   "cell_type": "code",
   "execution_count": 10,
   "id": "63918177-4ebd-441b-9364-a32aaf57362c",
   "metadata": {},
   "outputs": [
    {
     "name": "stdout",
     "output_type": "stream",
     "text": [
      "Encoder has been saved to transformer.pkl\n",
      "Target variable y has been encoded as a numeric one\n"
     ]
    },
    {
     "data": {
      "text/html": [
       "<div>\n",
       "<style scoped>\n",
       "    .dataframe tbody tr th:only-of-type {\n",
       "        vertical-align: middle;\n",
       "    }\n",
       "\n",
       "    .dataframe tbody tr th {\n",
       "        vertical-align: top;\n",
       "    }\n",
       "\n",
       "    .dataframe thead th {\n",
       "        text-align: right;\n",
       "    }\n",
       "</style>\n",
       "<table border=\"1\" class=\"dataframe\">\n",
       "  <thead>\n",
       "    <tr style=\"text-align: right;\">\n",
       "      <th></th>\n",
       "      <th>0</th>\n",
       "      <th>1</th>\n",
       "      <th>2</th>\n",
       "      <th>3</th>\n",
       "      <th>4</th>\n",
       "      <th>5</th>\n",
       "      <th>6</th>\n",
       "      <th>7</th>\n",
       "      <th>8</th>\n",
       "      <th>9</th>\n",
       "      <th>10</th>\n",
       "      <th>11</th>\n",
       "      <th>12</th>\n",
       "      <th>13</th>\n",
       "      <th>target</th>\n",
       "    </tr>\n",
       "  </thead>\n",
       "  <tbody>\n",
       "    <tr>\n",
       "      <th>0</th>\n",
       "      <td>6.0</td>\n",
       "      <td>9.0</td>\n",
       "      <td>4.0</td>\n",
       "      <td>0.0</td>\n",
       "      <td>1.0</td>\n",
       "      <td>4.0</td>\n",
       "      <td>1.0</td>\n",
       "      <td>38.0</td>\n",
       "      <td>2</td>\n",
       "      <td>77516</td>\n",
       "      <td>13</td>\n",
       "      <td>1</td>\n",
       "      <td>0</td>\n",
       "      <td>2</td>\n",
       "      <td>0</td>\n",
       "    </tr>\n",
       "    <tr>\n",
       "      <th>1</th>\n",
       "      <td>5.0</td>\n",
       "      <td>9.0</td>\n",
       "      <td>2.0</td>\n",
       "      <td>3.0</td>\n",
       "      <td>0.0</td>\n",
       "      <td>4.0</td>\n",
       "      <td>1.0</td>\n",
       "      <td>38.0</td>\n",
       "      <td>3</td>\n",
       "      <td>83311</td>\n",
       "      <td>13</td>\n",
       "      <td>0</td>\n",
       "      <td>0</td>\n",
       "      <td>0</td>\n",
       "      <td>0</td>\n",
       "    </tr>\n",
       "    <tr>\n",
       "      <th>2</th>\n",
       "      <td>3.0</td>\n",
       "      <td>11.0</td>\n",
       "      <td>0.0</td>\n",
       "      <td>5.0</td>\n",
       "      <td>1.0</td>\n",
       "      <td>4.0</td>\n",
       "      <td>1.0</td>\n",
       "      <td>38.0</td>\n",
       "      <td>2</td>\n",
       "      <td>215646</td>\n",
       "      <td>9</td>\n",
       "      <td>0</td>\n",
       "      <td>0</td>\n",
       "      <td>2</td>\n",
       "      <td>0</td>\n",
       "    </tr>\n",
       "    <tr>\n",
       "      <th>3</th>\n",
       "      <td>3.0</td>\n",
       "      <td>1.0</td>\n",
       "      <td>2.0</td>\n",
       "      <td>5.0</td>\n",
       "      <td>0.0</td>\n",
       "      <td>2.0</td>\n",
       "      <td>1.0</td>\n",
       "      <td>38.0</td>\n",
       "      <td>3</td>\n",
       "      <td>234721</td>\n",
       "      <td>7</td>\n",
       "      <td>0</td>\n",
       "      <td>0</td>\n",
       "      <td>2</td>\n",
       "      <td>0</td>\n",
       "    </tr>\n",
       "    <tr>\n",
       "      <th>4</th>\n",
       "      <td>3.0</td>\n",
       "      <td>9.0</td>\n",
       "      <td>2.0</td>\n",
       "      <td>9.0</td>\n",
       "      <td>5.0</td>\n",
       "      <td>2.0</td>\n",
       "      <td>0.0</td>\n",
       "      <td>4.0</td>\n",
       "      <td>1</td>\n",
       "      <td>338409</td>\n",
       "      <td>13</td>\n",
       "      <td>0</td>\n",
       "      <td>0</td>\n",
       "      <td>2</td>\n",
       "      <td>0</td>\n",
       "    </tr>\n",
       "  </tbody>\n",
       "</table>\n",
       "</div>"
      ],
      "text/plain": [
       "     0     1    2    3    4    5    6     7  8       9  10 11 12 13  target\n",
       "0  6.0   9.0  4.0  0.0  1.0  4.0  1.0  38.0  2   77516  13  1  0  2       0\n",
       "1  5.0   9.0  2.0  3.0  0.0  4.0  1.0  38.0  3   83311  13  0  0  0       0\n",
       "2  3.0  11.0  0.0  5.0  1.0  4.0  1.0  38.0  2  215646   9  0  0  2       0\n",
       "3  3.0   1.0  2.0  5.0  0.0  2.0  1.0  38.0  3  234721   7  0  0  2       0\n",
       "4  3.0   9.0  2.0  9.0  5.0  2.0  0.0   4.0  1  338409  13  0  0  2       0"
      ]
     },
     "execution_count": 10,
     "metadata": {},
     "output_type": "execute_result"
    }
   ],
   "source": [
    "# Save the transformer for future use with new data\n",
    "joblib.dump(transformer, 'transformer.pkl')\n",
    "print('Encoder has been saved to transformer.pkl')\n",
    "\n",
    "# Encode target variable\n",
    "y = LabelEncoder().fit_transform(y)\n",
    "print('Target variable y has been encoded as a numeric one')\n",
    "\n",
    "df = pd.DataFrame(X)\n",
    "df['target'] = y\n",
    "df.head()\n"
   ]
  },
  {
   "cell_type": "code",
   "execution_count": 12,
   "id": "c7cc64eb-4438-4590-8fd8-887a231092e5",
   "metadata": {},
   "outputs": [
    {
     "name": "stdout",
     "output_type": "stream",
     "text": [
      "Data has been split into training, validation, and test sets\n"
     ]
    }
   ],
   "source": [
    "# Split data into train, validation, and test sets\n",
    "X_train, X_temp, y_train, y_temp = train_test_split(X, y, test_size=0.3, random_state=42, stratify=y)\n",
    "X_val, X_test, y_val, y_test = train_test_split(X_temp, y_temp, test_size=0.5, random_state=42, stratify=y_temp)\n",
    "print('Data has been split into training, validation, and test sets')\n"
   ]
  },
  {
   "cell_type": "code",
   "execution_count": 14,
   "id": "4c2a1d14-1160-411f-8f48-1eb210e085ea",
   "metadata": {},
   "outputs": [
    {
     "name": "stdout",
     "output_type": "stream",
     "text": [
      "Training model with early stopping...\n",
      "Model training complete\n",
      "Train Accuracy: 0.869\n",
      "Train F1 Score: 0.703\n",
      "Train ROC AUC: 0.927\n"
     ]
    }
   ],
   "source": [
    "# Create and train the XGBClassifier with early stopping\n",
    "if early_stopping:\n",
    "    early_stopping_rounds = 5\n",
    "    print('Training model with early stopping...')\n",
    "else:\n",
    "    early_stopping_rounds = None\n",
    "    print('Training model without early stopping...')\n",
    "\n",
    "# Train the model\n",
    "model = XGBClassifier(objective='binary:logistic', random_state=42, n_jobs=1,\n",
    "                      early_stopping_rounds=early_stopping_rounds)\n",
    "model.fit(X_train, y_train, eval_set=[(X_train, y_train), (X_val, y_val)], verbose=False)\n",
    "print('Model training complete')\n",
    "\n",
    "# Use the model to make predictions on the train set\n",
    "y_pred = model.predict(X_train)\n",
    "y_pred_proba = model.predict_proba(X_train)[:, 1]  # Probabilities for the positive class\n",
    "\n",
    "accuracy = accuracy_score(y_train, y_pred)\n",
    "f1 = f1_score(y_train, y_pred)\n",
    "roc_auc = roc_auc_score(y_train, y_pred_proba)\n",
    "np.set_printoptions(precision=2, suppress=True)\n",
    "\n",
    "print(f\"Train Accuracy: {accuracy:.3f}\")\n",
    "print(f\"Train F1 Score: {f1:.3f}\")\n",
    "print(f\"Train ROC AUC: {roc_auc:.3f}\")\n"
   ]
  },
  {
   "cell_type": "code",
   "execution_count": 16,
   "id": "e4950bbf-1d23-45a1-add7-aea06b842e99",
   "metadata": {},
   "outputs": [
    {
     "name": "stdout",
     "output_type": "stream",
     "text": [
      "Val Accuracy: 0.863\n",
      "Val F1 Score: 0.688\n",
      "Val ROC AUC: 0.916\n",
      "Test Accuracy: 0.861\n",
      "Test F1 Score: 0.684\n",
      "Test ROC AUC: 0.912\n"
     ]
    }
   ],
   "source": [
    "# Use the model to make predictions on the val set\n",
    "y_pred = model.predict(X_val)\n",
    "y_pred_proba = model.predict_proba(X_val)[:, 1]  # Probabilities for the positive class\n",
    "accuracy = accuracy_score(y_val, y_pred)\n",
    "f1 = f1_score(y_val, y_pred)\n",
    "roc_auc = roc_auc_score(y_val, y_pred_proba)\n",
    "print(f\"Val Accuracy: {accuracy:.3f}\")\n",
    "print(f\"Val F1 Score: {f1:.3f}\")\n",
    "print(f\"Val ROC AUC: {roc_auc:.3f}\")\n",
    "\n",
    "# Use the model to make predictions on the test set\n",
    "y_pred = model.predict(X_test)\n",
    "y_pred_proba = model.predict_proba(X_test)[:, 1]  # Probabilities for the positive class\n",
    "accuracy = accuracy_score(y_test, y_pred)\n",
    "f1 = f1_score(y_test, y_pred)\n",
    "roc_auc = roc_auc_score(y_test, y_pred_proba)\n",
    "print(f\"Test Accuracy: {accuracy:.3f}\")\n",
    "print(f\"Test F1 Score: {f1:.3f}\")\n",
    "print(f\"Test ROC AUC: {roc_auc:.3f}\")\n"
   ]
  },
  {
   "cell_type": "code",
   "execution_count": 18,
   "id": "b908c418-8c43-4fc5-bc84-ab7328b98134",
   "metadata": {},
   "outputs": [
    {
     "data": {
      "image/png": "[encoded data removed]",
      "text/plain": [
       "<Figure size 400x300 with 2 Axes>"
      ]
     },
     "metadata": {},
     "output_type": "display_data"
    }
   ],
   "source": [
    "# Confusion Matrix\n",
    "conf_matrix = confusion_matrix(y_test, y_pred)\n",
    "plt.figure(figsize=(4, 3))\n",
    "sns.heatmap(conf_matrix, annot=True, fmt='d', cmap='Blues', xticklabels=['0', '1'], yticklabels=['0', '1'])\n",
    "plt.xlabel('Predicted')\n",
    "plt.ylabel('True')\n",
    "plt.title('Confusion Matrix')\n",
    "plt.show()"
   ]
  },
  {
   "cell_type": "code",
   "execution_count": 20,
   "id": "fb6a07f1-2dad-409d-acd2-ce992794d203",
   "metadata": {},
   "outputs": [
    {
     "name": "stdout",
     "output_type": "stream",
     "text": [
      "Classification Report:\n",
      "              precision    recall  f1-score   support\n",
      "\n",
      "           0       0.89      0.93      0.91      5574\n",
      "           1       0.75      0.63      0.68      1753\n",
      "\n",
      "    accuracy                           0.86      7327\n",
      "   macro avg       0.82      0.78      0.80      7327\n",
      "weighted avg       0.86      0.86      0.86      7327\n",
      "\n"
     ]
    }
   ],
   "source": [
    "# Classification Report\n",
    "class_report = classification_report(y_test, y_pred, target_names=['0', '1'])\n",
    "print(\"Classification Report:\")\n",
    "print(class_report)"
   ]
  },
  {
   "cell_type": "code",
   "execution_count": 22,
   "id": "b888785c-0104-4743-aea6-a03459954f06",
   "metadata": {},
   "outputs": [
    {
     "data": {
      "image/png": "[encoded data removed]",
      "text/plain": [
       "<Figure size 600x300 with 1 Axes>"
      ]
     },
     "metadata": {},
     "output_type": "display_data"
    }
   ],
   "source": [
    "# ROC Curve\n",
    "fpr, tpr, thresholds = roc_curve(y_test, y_pred_proba)\n",
    "roc_auc = auc(fpr, tpr)\n",
    "\n",
    "plt.figure(figsize=(6, 3))\n",
    "plt.plot(fpr, tpr, color='red', lw=2, label=f'ROC curve (area = {roc_auc:.2f})')\n",
    "plt.plot([0, 1], [0, 1], color='gray', linestyle='--')\n",
    "plt.xlim([0.0, 1.0])\n",
    "plt.ylim([0.0, 1.05])\n",
    "plt.xlabel('False Positive Rate')\n",
    "plt.ylabel('True Positive Rate')\n",
    "plt.title('Receiver Operating Characteristic (ROC)')\n",
    "plt.legend(loc='lower right')\n",
    "plt.show()\n"
   ]
  },
  {
   "cell_type": "code",
   "execution_count": 24,
   "id": "dbd897b3-2b19-4eaf-a572-3c63f75e0239",
   "metadata": {},
   "outputs": [
    {
     "name": "stdout",
     "output_type": "stream",
     "text": [
      "Model has been saved for future use\n"
     ]
    },
    {
     "data": {
      "text/html": [
       "<div>\n",
       "<style scoped>\n",
       "    .dataframe tbody tr th:only-of-type {\n",
       "        vertical-align: middle;\n",
       "    }\n",
       "\n",
       "    .dataframe tbody tr th {\n",
       "        vertical-align: top;\n",
       "    }\n",
       "\n",
       "    .dataframe thead th {\n",
       "        text-align: right;\n",
       "    }\n",
       "</style>\n",
       "<table border=\"1\" class=\"dataframe\">\n",
       "  <thead>\n",
       "    <tr style=\"text-align: right;\">\n",
       "      <th></th>\n",
       "      <th>age</th>\n",
       "      <th>workclass</th>\n",
       "      <th>fnlwgt</th>\n",
       "      <th>education</th>\n",
       "      <th>education-num</th>\n",
       "      <th>marital-status</th>\n",
       "      <th>occupation</th>\n",
       "      <th>relationship</th>\n",
       "      <th>race</th>\n",
       "      <th>sex</th>\n",
       "      <th>capitalgain</th>\n",
       "      <th>capitalloss</th>\n",
       "      <th>hoursperweek</th>\n",
       "      <th>native-country</th>\n",
       "    </tr>\n",
       "  </thead>\n",
       "  <tbody>\n",
       "    <tr>\n",
       "      <th>0</th>\n",
       "      <td>22</td>\n",
       "      <td>State-gov</td>\n",
       "      <td>77516</td>\n",
       "      <td>Bachelors</td>\n",
       "      <td>13</td>\n",
       "      <td>Never-married</td>\n",
       "      <td>Adm-clerical</td>\n",
       "      <td>Not-in-family</td>\n",
       "      <td>White</td>\n",
       "      <td>Male</td>\n",
       "      <td>1</td>\n",
       "      <td>0</td>\n",
       "      <td>2</td>\n",
       "      <td>United-States</td>\n",
       "    </tr>\n",
       "    <tr>\n",
       "      <th>1</th>\n",
       "      <td>25</td>\n",
       "      <td>Self-emp-not-inc</td>\n",
       "      <td>150000</td>\n",
       "      <td>Masters</td>\n",
       "      <td>12</td>\n",
       "      <td>Divorced</td>\n",
       "      <td>Prof-specialty</td>\n",
       "      <td>Husband</td>\n",
       "      <td>Black</td>\n",
       "      <td>Female</td>\n",
       "      <td>1000</td>\n",
       "      <td>0</td>\n",
       "      <td>60</td>\n",
       "      <td>United-States</td>\n",
       "    </tr>\n",
       "  </tbody>\n",
       "</table>\n",
       "</div>"
      ],
      "text/plain": [
       "   age         workclass  fnlwgt  education  education-num marital-status  \\\n",
       "0   22         State-gov   77516  Bachelors             13  Never-married   \n",
       "1   25  Self-emp-not-inc  150000    Masters             12       Divorced   \n",
       "\n",
       "       occupation   relationship   race     sex  capitalgain  capitalloss  \\\n",
       "0    Adm-clerical  Not-in-family  White    Male            1            0   \n",
       "1  Prof-specialty        Husband  Black  Female         1000            0   \n",
       "\n",
       "   hoursperweek native-country  \n",
       "0             2  United-States  \n",
       "1            60  United-States  "
      ]
     },
     "execution_count": 24,
     "metadata": {},
     "output_type": "execute_result"
    }
   ],
   "source": [
    "# Save the model for future use (optional step)\n",
    "model.save_model('model_adult.ubj')\n",
    "print('Model has been saved for future use')\n",
    "\n",
    "# Assume 'new_data' is your new dataset to predict\n",
    "new_data = pd.DataFrame({\n",
    "    'age': [22, 25],\n",
    "    'workclass': ['State-gov', 'Self-emp-not-inc'],\n",
    "    'fnlwgt': [77516, 150000],\n",
    "    'education': ['Bachelors', 'Masters'],\n",
    "    'education-num': [13, 12],\n",
    "    'marital-status': ['Never-married', 'Divorced'],\n",
    "    'occupation': ['Adm-clerical', 'Prof-specialty'],\n",
    "    'relationship': ['Not-in-family', 'Husband'],\n",
    "    'race': ['White', 'Black'],\n",
    "    'sex': ['Male', 'Female'],\n",
    "    'capitalgain': [1, 1000],\n",
    "    'capitalloss': [0, 0],\n",
    "    'hoursperweek': [2, 60],\n",
    "    'native-country': ['United-States', 'United-States']\n",
    "})\n",
    "\n",
    "new_data.head()\n"
   ]
  },
  {
   "cell_type": "code",
   "execution_count": 26,
   "id": "877d6878-73a2-4fd3-8bca-b1a23cd97534",
   "metadata": {},
   "outputs": [
    {
     "name": "stdout",
     "output_type": "stream",
     "text": [
      "Encoder has been loaded from transformer.pkl\n",
      "The new data has been encoded using the loaded transformer\n",
      "Saved model has been loaded.\n",
      "Predictions: [0 1]\n",
      "Prediction probabilities: [0.04 0.92]\n"
     ]
    }
   ],
   "source": [
    "# Load the saved transformer\n",
    "transformer = joblib.load('transformer.pkl')\n",
    "print('Encoder has been loaded from transformer.pkl')\n",
    "\n",
    "# Transform the new data using the loaded transformer\n",
    "new_data_encoded = transformer.transform(new_data)\n",
    "print('The new data has been encoded using the loaded transformer')\n",
    "\n",
    "# Load the saved model\n",
    "model = XGBClassifier()\n",
    "model.load_model('model_adult.ubj')\n",
    "print('Saved model has been loaded.')\n",
    "\n",
    "# Use the loaded model to make predictions on the new data\n",
    "predictions = model.predict(new_data_encoded)\n",
    "predictions_prob = model.predict_proba(new_data_encoded)[:, 1]  # Probabilities for the positive class\n",
    "\n",
    "# Print the predictions\n",
    "np.set_printoptions(precision=2, suppress=True)\n",
    "print(\"Predictions:\", predictions)\n",
    "print(\"Prediction probabilities:\", predictions_prob)\n"
   ]
  },
  {
   "cell_type": "markdown",
   "id": "ea386c06-0e82-4c96-a4d3-1d014cc17b0f",
   "metadata": {},
   "source": [
    "### Comentario:\n",
    "En este bloque se realiza una implementación completa de un modelo de clasificación usando **XGBoost**, uno de los algoritmos más robustos y eficientes en tareas de machine learning supervisado. El flujo seguido es representativo de un pipeline profesional de ciencia de datos.\n",
    "\n",
    "Primero se trabajó con un conjunto de datos de tipo socioeconómico (simulado o basado en Adult Income) que contiene múltiples variables categóricas y numéricas. Se aplicó una codificación ordinal a las variables categóricas usando `OrdinalEncoder`, técnica adecuada cuando se quiere mantener una representación compacta y eficiente, y cuando las categorías tienen un orden implícito (aunque en este caso no lo tuvieran, se aceptó como compromiso por rendimiento).\n",
    "\n",
    "Posteriormente, se dividieron los datos en conjuntos de entrenamiento, validación y test, lo que permite evaluar tanto la capacidad de aprendizaje del modelo como su habilidad para generalizar a datos no vistos. Se entrenó un modelo XGBoost con **early stopping**, técnica que interrumpe el entrenamiento si el modelo deja de mejorar en el conjunto de validación, previniendo así el sobreajuste.\n",
    "\n",
    "Los resultados de rendimiento fueron los siguientes:\n",
    "- **Train set**: Accuracy = 0.869, F1-score = 0.703, ROC AUC = 0.927  \n",
    "- **Validation set**: Accuracy = 0.863, F1-score = 0.688, ROC AUC = 0.916  \n",
    "- **Test set**: Accuracy = 0.861, F1-score = 0.684, ROC AUC = 0.912  \n",
    "\n",
    "Esto refleja una **alta capacidad predictiva y buena generalización**, con valores de AUC-ROC superiores al 0.91 en todos los subconjuntos. En particular, el AUC muestra que el modelo distingue bien entre clases en distintos umbrales. El F1-score de la clase minoritaria (1, ingresos altos) fue de 0.68 en test, lo cual indica un balance razonable entre precisión y recall, pese a que el modelo sigue mostrando cierto sesgo hacia la clase mayoritaria (≤50K).\n",
    "\n",
    "El informe de clasificación confirmó esto:\n",
    "- Clase 0 (≤50K): precision = 0.89, recall = 0.93  \n",
    "- Clase 1 (>50K): precision = 0.75, recall = 0.63  \n",
    "\n",
    "Esto sugiere que el modelo aún tiene margen de mejora para identificar correctamente ingresos altos, aunque el rendimiento global es bastante competitivo.\n",
    "\n",
    "Finalmente, se evaluó la **predicción sobre nuevos datos**. Tras codificar los nuevos registros con el mismo transformador y cargar el modelo guardado, se realizaron predicciones, obteniendo probabilidades individualizadas. Este enfoque es clave para aplicaciones reales, donde se requiere un modelo listo para producción que pueda generalizar a nuevos casos.\n",
    "\n",
    "En conclusión, este bloque cubre de forma práctica y teórica el ciclo completo de desarrollo de un modelo supervisado moderno con XGBoost, incluyendo preprocesamiento, entrenamiento con regularización, evaluación robusta y despliegue básico. Los resultados respaldan la validez del enfoque y muestran cómo puede aplicarse este modelo en contextos reales donde la precisión y el equilibrio entre clases son cruciales.\n"
   ]
  }
 ],
 "metadata": {
  "kernelspec": {
   "display_name": "Python [conda env:base] *",
   "language": "python",
   "name": "conda-base-py"
  },
  "language_info": {
   "codemirror_mode": {
    "name": "ipython",
    "version": 3
   },
   "file_extension": ".py",
   "mimetype": "text/x-python",
   "name": "python",
   "nbconvert_exporter": "python",
   "pygments_lexer": "ipython3",
   "version": "3.12.7"
  }
 },
 "nbformat": 4,
 "nbformat_minor": 5
}
