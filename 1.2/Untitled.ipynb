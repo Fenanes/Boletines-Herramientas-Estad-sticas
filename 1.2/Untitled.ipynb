{
 "cells": [
  {
   "cell_type": "markdown",
   "id": "d0ac9108-f219-447b-986c-f7e43dc184df",
   "metadata": {},
   "source": [
    "### Ejercicio 1:\n",
    "Un inversionista tiene dos acciones: la acción A y la acción B. Cada acción puede aumentar de valor, disminuir de valor o permanecer sin cambios. Considere el experimento de invertir en las dos acciones y observar el cambio (si lo hay) en el valor.\n",
    "\n",
    "a. ¿Cuántos resultados experimentales son posibles?\n",
    "\n",
    "b. Muestra un diagrama de árbol para el experimento.\n",
    "\n",
    "c. ¿Cuántos de los resultados experimentales resultan en un aumento en el valor de al menos una de las dos acciones?\n",
    "\n",
    "d. ¿Cuántos de los resultados experimentales resultan en un aumento en el valor de ambas acciones?"
   ]
  },
  {
   "cell_type": "code",
   "execution_count": 7,
   "id": "6e8fac86-be5a-4c60-a31c-345054028dbe",
   "metadata": {},
   "outputs": [
    {
     "name": "stdout",
     "output_type": "stream",
     "text": [
      "a. Número de resultados experimentales posibles: 9\n",
      "\n",
      "b. Diagrama de árbol (horizontal):\n"
     ]
    },
    {
     "ename": "ImportError",
     "evalue": "requires pygraphviz http://pygraphviz.github.io/",
     "output_type": "error",
     "traceback": [
      "\u001b[1;31m---------------------------------------------------------------------------\u001b[0m",
      "\u001b[1;31mModuleNotFoundError\u001b[0m                       Traceback (most recent call last)",
      "File \u001b[1;32m~\\anaconda3\\Lib\\site-packages\\networkx\\drawing\\nx_agraph.py:302\u001b[0m, in \u001b[0;36mpygraphviz_layout\u001b[1;34m(G, prog, root, args)\u001b[0m\n\u001b[0;32m    301\u001b[0m \u001b[38;5;28;01mtry\u001b[39;00m:\n\u001b[1;32m--> 302\u001b[0m     \u001b[38;5;28;01mimport\u001b[39;00m \u001b[38;5;21;01mpygraphviz\u001b[39;00m\n\u001b[0;32m    303\u001b[0m \u001b[38;5;28;01mexcept\u001b[39;00m \u001b[38;5;167;01mImportError\u001b[39;00m \u001b[38;5;28;01mas\u001b[39;00m err:\n",
      "\u001b[1;31mModuleNotFoundError\u001b[0m: No module named 'pygraphviz'",
      "\nThe above exception was the direct cause of the following exception:\n",
      "\u001b[1;31mImportError\u001b[0m                               Traceback (most recent call last)",
      "Cell \u001b[1;32mIn[7], line 30\u001b[0m\n\u001b[0;32m     27\u001b[0m         G\u001b[38;5;241m.\u001b[39madd_edge(accion_A, \u001b[38;5;124mf\u001b[39m\u001b[38;5;124m\"\u001b[39m\u001b[38;5;132;01m{\u001b[39;00maccion_A\u001b[38;5;132;01m}\u001b[39;00m\u001b[38;5;124m -> \u001b[39m\u001b[38;5;132;01m{\u001b[39;00maccion_B\u001b[38;5;132;01m}\u001b[39;00m\u001b[38;5;124m\"\u001b[39m)\n\u001b[0;32m     29\u001b[0m \u001b[38;5;66;03m# Dibujar el árbol en horizontal\u001b[39;00m\n\u001b[1;32m---> 30\u001b[0m pos \u001b[38;5;241m=\u001b[39m nx\u001b[38;5;241m.\u001b[39mdrawing\u001b[38;5;241m.\u001b[39mnx_agraph\u001b[38;5;241m.\u001b[39mgraphviz_layout(G, prog\u001b[38;5;241m=\u001b[39m\u001b[38;5;124m'\u001b[39m\u001b[38;5;124mdot\u001b[39m\u001b[38;5;124m'\u001b[39m)  \u001b[38;5;66;03m# Usar 'dot' para un árbol horizontal\u001b[39;00m\n\u001b[0;32m     31\u001b[0m plt\u001b[38;5;241m.\u001b[39mfigure(figsize\u001b[38;5;241m=\u001b[39m(\u001b[38;5;241m10\u001b[39m, \u001b[38;5;241m6\u001b[39m))\n\u001b[0;32m     32\u001b[0m nx\u001b[38;5;241m.\u001b[39mdraw(G, pos, with_labels\u001b[38;5;241m=\u001b[39m\u001b[38;5;28;01mTrue\u001b[39;00m, node_size\u001b[38;5;241m=\u001b[39m\u001b[38;5;241m3000\u001b[39m, node_color\u001b[38;5;241m=\u001b[39m\u001b[38;5;124m'\u001b[39m\u001b[38;5;124mlightblue\u001b[39m\u001b[38;5;124m'\u001b[39m, font_size\u001b[38;5;241m=\u001b[39m\u001b[38;5;241m10\u001b[39m, font_weight\u001b[38;5;241m=\u001b[39m\u001b[38;5;124m'\u001b[39m\u001b[38;5;124mbold\u001b[39m\u001b[38;5;124m'\u001b[39m, arrows\u001b[38;5;241m=\u001b[39m\u001b[38;5;28;01mTrue\u001b[39;00m)\n",
      "File \u001b[1;32m~\\anaconda3\\Lib\\site-packages\\networkx\\drawing\\nx_agraph.py:258\u001b[0m, in \u001b[0;36mgraphviz_layout\u001b[1;34m(G, prog, root, args)\u001b[0m\n\u001b[0;32m    227\u001b[0m \u001b[38;5;28;01mdef\u001b[39;00m \u001b[38;5;21mgraphviz_layout\u001b[39m(G, prog\u001b[38;5;241m=\u001b[39m\u001b[38;5;124m\"\u001b[39m\u001b[38;5;124mneato\u001b[39m\u001b[38;5;124m\"\u001b[39m, root\u001b[38;5;241m=\u001b[39m\u001b[38;5;28;01mNone\u001b[39;00m, args\u001b[38;5;241m=\u001b[39m\u001b[38;5;124m\"\u001b[39m\u001b[38;5;124m\"\u001b[39m):\n\u001b[0;32m    228\u001b[0m \u001b[38;5;250m    \u001b[39m\u001b[38;5;124;03m\"\"\"Create node positions for G using Graphviz.\u001b[39;00m\n\u001b[0;32m    229\u001b[0m \n\u001b[0;32m    230\u001b[0m \u001b[38;5;124;03m    Parameters\u001b[39;00m\n\u001b[1;32m   (...)\u001b[0m\n\u001b[0;32m    256\u001b[0m \u001b[38;5;124;03m    see https://gitlab.com/graphviz/graphviz/-/issues/1767 for more info.\u001b[39;00m\n\u001b[0;32m    257\u001b[0m \u001b[38;5;124;03m    \"\"\"\u001b[39;00m\n\u001b[1;32m--> 258\u001b[0m     \u001b[38;5;28;01mreturn\u001b[39;00m pygraphviz_layout(G, prog\u001b[38;5;241m=\u001b[39mprog, root\u001b[38;5;241m=\u001b[39mroot, args\u001b[38;5;241m=\u001b[39margs)\n",
      "File \u001b[1;32m~\\anaconda3\\Lib\\site-packages\\networkx\\drawing\\nx_agraph.py:304\u001b[0m, in \u001b[0;36mpygraphviz_layout\u001b[1;34m(G, prog, root, args)\u001b[0m\n\u001b[0;32m    302\u001b[0m     \u001b[38;5;28;01mimport\u001b[39;00m \u001b[38;5;21;01mpygraphviz\u001b[39;00m\n\u001b[0;32m    303\u001b[0m \u001b[38;5;28;01mexcept\u001b[39;00m \u001b[38;5;167;01mImportError\u001b[39;00m \u001b[38;5;28;01mas\u001b[39;00m err:\n\u001b[1;32m--> 304\u001b[0m     \u001b[38;5;28;01mraise\u001b[39;00m \u001b[38;5;167;01mImportError\u001b[39;00m(\u001b[38;5;124m\"\u001b[39m\u001b[38;5;124mrequires pygraphviz http://pygraphviz.github.io/\u001b[39m\u001b[38;5;124m\"\u001b[39m) \u001b[38;5;28;01mfrom\u001b[39;00m \u001b[38;5;21;01merr\u001b[39;00m\n\u001b[0;32m    305\u001b[0m \u001b[38;5;28;01mif\u001b[39;00m root \u001b[38;5;129;01mis\u001b[39;00m \u001b[38;5;129;01mnot\u001b[39;00m \u001b[38;5;28;01mNone\u001b[39;00m:\n\u001b[0;32m    306\u001b[0m     args \u001b[38;5;241m+\u001b[39m\u001b[38;5;241m=\u001b[39m \u001b[38;5;124mf\u001b[39m\u001b[38;5;124m\"\u001b[39m\u001b[38;5;124m-Groot=\u001b[39m\u001b[38;5;132;01m{\u001b[39;00mroot\u001b[38;5;132;01m}\u001b[39;00m\u001b[38;5;124m\"\u001b[39m\n",
      "\u001b[1;31mImportError\u001b[0m: requires pygraphviz http://pygraphviz.github.io/"
     ]
    }
   ],
   "source": [
    "# Importar las bibliotecas necesarias\n",
    "import networkx as nx\n",
    "import matplotlib.pyplot as plt\n",
    "\n",
    "# a. Número de resultados experimentales posibles\n",
    "resultados_posibles = 3 ** 2  # Cada acción tiene 3 resultados y hay 2 acciones\n",
    "print(f\"a. Número de resultados experimentales posibles: {resultados_posibles}\")\n",
    "\n",
    "# b. Diagrama de árbol usando networkx\n",
    "print(\"\\nb. Diagrama de árbol (horizontal):\")\n",
    "\n",
    "# Crear un grafo dirigido\n",
    "G = nx.DiGraph()\n",
    "\n",
    "# Nodos del árbol\n",
    "G.add_node(\"Inicio\")  # Nodo raíz\n",
    "acciones = ['Aumentar', 'Disminuir', 'Sin cambio']\n",
    "\n",
    "# Agregar nodos y aristas para la acción A\n",
    "for accion_A in acciones:\n",
    "    G.add_node(accion_A)\n",
    "    G.add_edge(\"Inicio\", accion_A)\n",
    "\n",
    "    # Agregar nodos y aristas para la acción B\n",
    "    for accion_B in acciones:\n",
    "        G.add_node(f\"{accion_A} -> {accion_B}\")\n",
    "        G.add_edge(accion_A, f\"{accion_A} -> {accion_B}\")\n",
    "\n",
    "# Dibujar el árbol en horizontal\n",
    "pos = nx.drawing.nx_agraph.graphviz_layout(G, prog='dot')  # Usar 'dot' para un árbol horizontal\n",
    "plt.figure(figsize=(10, 6))\n",
    "nx.draw(G, pos, with_labels=True, node_size=3000, node_color='lightblue', font_size=10, font_weight='bold', arrows=True)\n",
    "plt.title(\"Diagrama de árbol: Cambio en el valor de las acciones A y B\")\n",
    "plt.show()\n",
    "\n",
    "# c. Resultados con al menos un aumento\n",
    "resultados_con_al_menos_un_aumento = 0\n",
    "for accion_A in acciones:\n",
    "    for accion_B in acciones:\n",
    "        if accion_A == 'Aumentar' or accion_B == 'Aumentar':\n",
    "            resultados_con_al_menos_un_aumento += 1\n",
    "\n",
    "print(f\"\\nc. Número de resultados con al menos un aumento: {resultados_con_al_menos_un_aumento}\")\n",
    "\n",
    "# d. Resultados con aumento en ambas acciones\n",
    "resultados_con_aumento_en_ambas = 0\n",
    "for accion_A in acciones:\n",
    "    for accion_B in acciones:\n",
    "        if accion_A == 'Aumentar' and accion_B == 'Aumentar':\n",
    "            resultados_con_aumento_en_ambas += 1\n",
    "\n",
    "print(f\"d. Número de resultados con aumento en ambas acciones: {resultados_con_aumento_en_ambas}\")"
   ]
  },
  {
   "cell_type": "code",
   "execution_count": null,
   "id": "1ed0651b-3409-4bbe-9e8b-d3824752ad4a",
   "metadata": {},
   "outputs": [],
   "source": []
  }
 ],
 "metadata": {
  "kernelspec": {
   "display_name": "Python [conda env:base] *",
   "language": "python",
   "name": "conda-base-py"
  },
  "language_info": {
   "codemirror_mode": {
    "name": "ipython",
    "version": 3
   },
   "file_extension": ".py",
   "mimetype": "text/x-python",
   "name": "python",
   "nbconvert_exporter": "python",
   "pygments_lexer": "ipython3",
   "version": "3.12.7"
  }
 },
 "nbformat": 4,
 "nbformat_minor": 5
}
