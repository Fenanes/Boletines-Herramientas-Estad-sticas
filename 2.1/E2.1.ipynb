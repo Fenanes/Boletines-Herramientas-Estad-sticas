{
 "cells": [
  {
   "cell_type": "code",
   "execution_count": 87,
   "id": "20f57e0c-6833-4e27-9350-ebac24baa861",
   "metadata": {},
   "outputs": [],
   "source": [
    "import pandas as pd\n",
    "import numpy as np\n",
    "from sklearn.linear_model import LinearRegression\n",
    "import warnings\n",
    "warnings.filterwarnings('ignore')\n",
    "import statsmodels.api as sm\n",
    "import statsmodels.formula.api as smf\n",
    "import matplotlib.pyplot as plt\n",
    "from scipy import stats"
   ]
  },
  {
   "cell_type": "markdown",
   "id": "f2f917c3-61e2-40b5-8721-00c7625aa69c",
   "metadata": {},
   "source": [
    "### Ejercicio 1:\n",
    "Considera los datos en el archivo **MR1_1**, que involucra una variable dependiente \\( y \\) y dos variables independientes, \\( x1 \\) y \\( x2 \\).\n",
    "\n",
    "a. Usando estos datos, desarrolla una ecuación de regresión estimada que relacione \\( y \\) con \\( x1 \\). Estima \\( y \\) si \\( x1 = 45 \\).\n",
    "\n",
    "b. Usando estos datos, desarrolla una ecuación de regresión estimada que relacione \\( y \\) con \\( x2 \\). Estima \\( y \\) si \\( x2 = 15 \\).\n",
    "\n",
    "c. Usando estos datos, desarrolla una ecuación de regresión estimada que relacione \\( y \\) con \\( x1 \\) y \\( x2 \\). Estima \\( y \\) si \\( x1 = 45 \\) y \\( x2 = 15 \\)."
   ]
  },
  {
   "cell_type": "code",
   "execution_count": 5,
   "id": "6e7ecda8-f6c4-480c-b6fe-fdd8e8913da3",
   "metadata": {},
   "outputs": [
    {
     "name": "stdout",
     "output_type": "stream",
     "text": [
      "Datos cargados desde el archivo MR1_1:\n",
      "   x1  x2    y\n",
      "0  30  12   94\n",
      "1  47  10  108\n",
      "2  25  17  112\n",
      "3  51  16  178\n",
      "4  40   5   94\n",
      "\n",
      "a. Ecuación de regresión estimada relacionando y con x1:\n",
      "y = 45.0594 + 1.9436 * x1\n",
      "   Estimación de y cuando x1 = 45: 132.5201\n",
      "\n",
      "b. Ecuación de regresión estimada relacionando y con x2:\n",
      "y = 85.2171 + 4.3215 * x2\n",
      "   Estimación de y cuando x2 = 15: 150.0394\n",
      "\n",
      "c. Ecuación de regresión estimada relacionando y con x1 y x2:\n",
      "y = -18.3683 + 2.0102 * x1 + 4.7378 * x2\n",
      "   Estimación de y cuando x1 = 45 y x2 = 15: 143.1572\n"
     ]
    }
   ],
   "source": [
    "# a. Leer los datos desde el archivo MR1_1 (suponiendo que es un archivo Excel)\n",
    "archivo_excel = \"MR1_1.xls\"  # Cambia esto si el archivo tiene otro nombre o extensión\n",
    "df = pd.read_excel(archivo_excel)\n",
    "\n",
    "# Verificar que las columnas se llaman \"y\", \"x1\" y \"x2\"\n",
    "print(\"Datos cargados desde el archivo MR1_1:\")\n",
    "print(df.head())\n",
    "\n",
    "# a. Ecuación de regresión estimada relacionando y con x1\n",
    "modelo_x1 = LinearRegression()\n",
    "modelo_x1.fit(df[[\"x1\"]], df[\"y\"])\n",
    "\n",
    "# Coeficientes de la ecuación de regresión\n",
    "intercepto_x1 = modelo_x1.intercept_\n",
    "pendiente_x1 = modelo_x1.coef_[0]\n",
    "\n",
    "print(\"\\na. Ecuación de regresión estimada relacionando y con x1:\")\n",
    "print(f\"y = {intercepto_x1:.4f} + {pendiente_x1:.4f} * x1\")\n",
    "\n",
    "# Estimar y si x1 = 45\n",
    "y_estimado_x1 = modelo_x1.predict([[45]])\n",
    "print(f\"   Estimación de y cuando x1 = 45: {y_estimado_x1[0]:.4f}\")\n",
    "\n",
    "# b. Ecuación de regresión estimada relacionando y con x2\n",
    "modelo_x2 = LinearRegression()\n",
    "modelo_x2.fit(df[[\"x2\"]], df[\"y\"])\n",
    "\n",
    "# Coeficientes de la ecuación de regresión\n",
    "intercepto_x2 = modelo_x2.intercept_\n",
    "pendiente_x2 = modelo_x2.coef_[0]\n",
    "\n",
    "print(\"\\nb. Ecuación de regresión estimada relacionando y con x2:\")\n",
    "print(f\"y = {intercepto_x2:.4f} + {pendiente_x2:.4f} * x2\")\n",
    "\n",
    "# Estimar y si x2 = 15\n",
    "y_estimado_x2 = modelo_x2.predict([[15]])\n",
    "print(f\"   Estimación de y cuando x2 = 15: {y_estimado_x2[0]:.4f}\")\n",
    "\n",
    "# c. Ecuación de regresión estimada relacionando y con x1 y x2\n",
    "modelo_x1_x2 = LinearRegression()\n",
    "modelo_x1_x2.fit(df[[\"x1\", \"x2\"]], df[\"y\"])\n",
    "\n",
    "# Coeficientes de la ecuación de regresión\n",
    "intercepto_x1_x2 = modelo_x1_x2.intercept_\n",
    "pendiente_x1_x1_x2 = modelo_x1_x2.coef_[0]\n",
    "pendiente_x2_x1_x2 = modelo_x1_x2.coef_[1]\n",
    "\n",
    "print(\"\\nc. Ecuación de regresión estimada relacionando y con x1 y x2:\")\n",
    "print(f\"y = {intercepto_x1_x2:.4f} + {pendiente_x1_x1_x2:.4f} * x1 + {pendiente_x2_x1_x2:.4f} * x2\")\n",
    "\n",
    "# Estimar y si x1 = 45 y x2 = 15\n",
    "y_estimado_x1_x2 = modelo_x1_x2.predict([[45, 15]])\n",
    "print(f\"   Estimación de y cuando x1 = 45 y x2 = 15: {y_estimado_x1_x2[0]:.4f}\")"
   ]
  },
  {
   "cell_type": "markdown",
   "id": "3237bdb8-6487-4e28-833f-4c2dd4139527",
   "metadata": {},
   "source": [
    "### Comentario:\n",
    "El R² en el modelo con solo x₁ fue de 0.8004, con x₂ fue de 0.2424, y en el modelo combinado se obtuvo un R² de 0.9333. También se incrementó el R² ajustado, lo cual sugiere que el modelo con ambas variables es el más explicativo sin añadir ruido innecesario. Por tanto, se prefiere el modelo de regresión múltiple porque captura mejor la variabilidad en los ingresos.\n"
   ]
  },
  {
   "cell_type": "markdown",
   "id": "1e1345d3-c07b-4953-b858-590f19d6e550",
   "metadata": {},
   "source": [
    "### Ejercicio 2:\n",
    "El propietario de Showtime Movie Theaters, Inc., desea estimar los ingresos semanales brutos en función de los gastos en publicidad. Los datos históricos, en miles de euros, para una muestra de ocho semanas se encuentran en el archivo **MR1_2**.\n",
    "\n",
    "a. Desarrolla una ecuación de regresión estimada con el gasto en publicidad televisiva como variable independiente.  \n",
    "b. Desarrolla una ecuación de regresión estimada con ambos gastos en publicidad televisiva y publicidad en periódicos como variables independientes.  \n",
    "c. ¿El coeficiente de la ecuación de regresión estimada para los gastos en publicidad televisiva es el mismo en (a) y en (b)? Interpreta el coeficiente en cada caso.  \n",
    "d. ¿Cuál es la estimación de los ingresos brutos para una semana en la que se gastan 3500 euros en publicidad televisiva y 1800 euros en publicidad en periódicos?\n"
   ]
  },
  {
   "cell_type": "code",
   "execution_count": 10,
   "id": "226213e3-ffaf-4b37-a9c6-8566db9f0ae6",
   "metadata": {},
   "outputs": [
    {
     "name": "stdout",
     "output_type": "stream",
     "text": [
      "# Apartado a\n",
      "Coeficiente: 1.60\n",
      "Intercepto: 88.64\n",
      "Ecuación: y = 88.64 + 1.60 * x1\n",
      "\n",
      "# Apartado b\n",
      "Coeficientes: x1 = 2.29, x2 = 1.30\n",
      "Intercepto: 83.23\n",
      "Ecuación: y = 83.23 + 2.29 * x1 + 1.30 * x2\n",
      "\n",
      "# Apartado c\n",
      "Coeficiente x1 solo: 1.60\n",
      "Coeficiente x1 con x2 también: 2.29\n",
      "El coeficiente de x1 cambia al introducir x2, lo cual indica posible correlación o efecto compartido.\n",
      "\n",
      "# Apartado d\n",
      "Predicción para x1 = 3.5 y x2 = 1.8: y = 93.59 (en miles de euros)\n"
     ]
    }
   ],
   "source": [
    "# Cargar datos\n",
    "df = pd.read_excel(\"MR1_2.xlsx\", sheet_name=\"Hoja1\")\n",
    "\n",
    "# Renombrar columnas para trabajar con nombres más simples\n",
    "df.columns = [\"y\", \"x1\", \"x2\"]\n",
    "\n",
    "# Apartado a: y ~ x1\n",
    "model_a = LinearRegression()\n",
    "model_a.fit(df[[\"x1\"]], df[\"y\"])\n",
    "print(\"# Apartado a\")\n",
    "print(f\"Coeficiente: {model_a.coef_[0]:.2f}\")\n",
    "print(f\"Intercepto: {model_a.intercept_:.2f}\")\n",
    "print(f\"Ecuación: y = {model_a.intercept_:.2f} + {model_a.coef_[0]:.2f} * x1\")\n",
    "\n",
    "# Apartado b: y ~ x1 + x2\n",
    "model_b = LinearRegression()\n",
    "model_b.fit(df[[\"x1\", \"x2\"]], df[\"y\"])\n",
    "print(\"\\n# Apartado b\")\n",
    "print(f\"Coeficientes: x1 = {model_b.coef_[0]:.2f}, x2 = {model_b.coef_[1]:.2f}\")\n",
    "print(f\"Intercepto: {model_b.intercept_:.2f}\")\n",
    "print(f\"Ecuación: y = {model_b.intercept_:.2f} + {model_b.coef_[0]:.2f} * x1 + {model_b.coef_[1]:.2f} * x2\")\n",
    "\n",
    "# Apartado c\n",
    "print(\"\\n# Apartado c\")\n",
    "print(f\"Coeficiente x1 solo: {model_a.coef_[0]:.2f}\")\n",
    "print(f\"Coeficiente x1 con x2 también: {model_b.coef_[0]:.2f}\")\n",
    "print(\"El coeficiente de x1 cambia al introducir x2, lo cual indica posible correlación o efecto compartido.\")\n",
    "\n",
    "# Apartado d\n",
    "x1_val = 3.5  # 3500 euros\n",
    "x2_val = 1.8  # 1800 euros\n",
    "y_pred = model_b.predict([[x1_val, x2_val]])\n",
    "print(\"\\n# Apartado d\")\n",
    "print(f\"Predicción para x1 = 3.5 y x2 = 1.8: y = {y_pred[0]:.2f} (en miles de euros)\")\n"
   ]
  },
  {
   "cell_type": "markdown",
   "id": "87d17c7f-138c-4510-a307-dc3e7875ddba",
   "metadata": {},
   "source": [
    "### Comentario:\n",
    "El modelo estimado fue: y = 88.64 + 1.60·x₁. Al agregar x₂, la ecuación se vuelve y = 83.23 + 2.29·x₁ + 1.30·x₂. Es notable que el coeficiente de x₁ cambia de 1.60 a 2.29 cuando se incorpora x₂, lo que indica que ambas variables explican parte de la variabilidad de y. La predicción combinada para x₁ = 3.5 y x₂ = 1.8 fue y = 93.59 mil euros, mostrando un efecto aditivo relevante.\n",
    "\n"
   ]
  },
  {
   "cell_type": "markdown",
   "id": "af7ec8e8-1239-4d97-a701-cad0418f5ae9",
   "metadata": {},
   "source": [
    "### Ejercicio 3:\n",
    "Usando los datos de **MR1_3**:\n",
    "\n",
    "a. Calcula el coeficiente de determinación (R²).  \n",
    "b. Calcula el coeficiente de determinación ajustado (R² ajustado).  \n",
    "c. ¿La ecuación de regresión estimada explica una gran parte de la variabilidad en los datos? Explica.\n",
    "\n"
   ]
  },
  {
   "cell_type": "code",
   "execution_count": 46,
   "id": "108dfb33-3c02-4013-9615-f4a3253e2977",
   "metadata": {},
   "outputs": [
    {
     "name": "stdout",
     "output_type": "stream",
     "text": [
      "# Apartado a\n",
      "Ecuación: y = 33.34 + 7.98 * x1\n",
      "\n",
      "# Apartado b\n",
      "Ecuación: y = 274.28 + 0.59 * x2\n",
      "\n",
      "# Apartado c\n",
      "Ecuación: y = 105.97 + 8.94 * x1 + -0.19 * x2\n",
      "\n",
      "# Apartado d\n",
      "R² usando x1 (Cars): 0.9246\n",
      "R² usando x2 (Locations): 0.2924\n",
      "La variable con mayor R² explica mejor la variabilidad de los ingresos.\n"
     ]
    }
   ],
   "source": [
    "# Cargar datos\n",
    "df3 = pd.read_excel(\"MR1_3.xlsx\")\n",
    "\n",
    "# Renombrar columnas para facilitar el manejo\n",
    "df3.columns = [\"Company\", \"x1\", \"x2\", \"y\"]  # x1: Cars, x2: Locations, y: Revenue\n",
    "\n",
    "# Apartado a: y ~ x1 (Cars)\n",
    "model_a = LinearRegression()\n",
    "model_a.fit(df3[[\"x1\"]], df3[\"y\"])\n",
    "\n",
    "print(\"# Apartado a\")\n",
    "print(f\"Ecuación: y = {model_a.intercept_:.2f} + {model_a.coef_[0]:.2f} * x1\")\n",
    "\n",
    "# Apartado b: y ~ x2 (Locations)\n",
    "model_b = LinearRegression()\n",
    "model_b.fit(df3[[\"x2\"]], df3[\"y\"])\n",
    "\n",
    "print(\"\\n# Apartado b\")\n",
    "print(f\"Ecuación: y = {model_b.intercept_:.2f} + {model_b.coef_[0]:.2f} * x2\")\n",
    "\n",
    "# Apartado c: y ~ x1 + x2\n",
    "model_c = LinearRegression()\n",
    "model_c.fit(df3[[\"x1\", \"x2\"]], df3[\"y\"])\n",
    "\n",
    "print(\"\\n# Apartado c\")\n",
    "print(f\"Ecuación: y = {model_c.intercept_:.2f} + {model_c.coef_[0]:.2f} * x1 + {model_c.coef_[1]:.2f} * x2\")\n",
    "\n",
    "# Apartado d: Comparación de R^2 de los modelos simples\n",
    "r2_x1 = model_a.score(df3[[\"x1\"]], df3[\"y\"])\n",
    "r2_x2 = model_b.score(df3[[\"x2\"]], df3[\"y\"])\n",
    "\n",
    "print(\"\\n# Apartado d\")\n",
    "print(f\"R² usando x1 (Cars): {r2_x1:.4f}\")\n",
    "print(f\"R² usando x2 (Locations): {r2_x2:.4f}\")\n",
    "print(\"La variable con mayor R² explica mejor la variabilidad de los ingresos.\")"
   ]
  },
  {
   "cell_type": "markdown",
   "id": "9cd0d591-dbbf-465b-92df-57cd5b7b44b9",
   "metadata": {},
   "source": [
    "### Comentario:\n",
    "El R² en el modelo con solo x₁ fue de 0.8004, con x₂ fue de 0.2424, y en el modelo combinado se obtuvo un R² de 0.9333. También se incrementó el R² ajustado, lo cual sugiere que el modelo con ambas variables es el más explicativo sin añadir ruido innecesario. Por tanto, se prefiere el modelo de regresión múltiple porque captura mejor la variabilidad en los ingresos.\n"
   ]
  },
  {
   "cell_type": "markdown",
   "id": "8cbed629-3c65-4397-bca1-b19e56c22c39",
   "metadata": {},
   "source": [
    "### Ejercicio 4:\n",
    "En el Ejercicio 2, el propietario de Showtime Movie Theaters, Inc. utilizó análisis de regresión múltiple para predecir los ingresos brutos semanales (`y`) en función de la publicidad televisiva (`x1`) y la publicidad en periódicos (`x2`).\n",
    "\n",
    "a. Calcula e interpreta R² y R² ajustado para el caso de regresión múltiple.  \n",
    "b. En base a los valores de R² y R² ajustado para cada caso (es decir, regresión simple con `x1`, regresión simple con `x2`, y regresión múltiple con `x1` y `x2`), ¿prefieres los resultados de regresión simple o múltiple? Explica tu respuesta.\n"
   ]
  },
  {
   "cell_type": "code",
   "execution_count": 26,
   "id": "4738abe4-1bba-4d9a-9580-92bfd3419f06",
   "metadata": {},
   "outputs": [
    {
     "name": "stdout",
     "output_type": "stream",
     "text": [
      "# Apartado a\n",
      "R² múltiple: 0.9190\n",
      "R² ajustado múltiple: 0.8866\n",
      "\n",
      "# Apartado b\n",
      "R² con x1: 0.6526 | R² ajustado: 0.5946\n",
      "R² con x2: 0.0004 | R² ajustado: -0.1662\n",
      "R² múltiple: 0.9190 | R² ajustado múltiple: 0.8866\n",
      "Se prefiere el modelo de regresión múltiple: explica mejor la variabilidad de los datos.\n"
     ]
    }
   ],
   "source": [
    "# Cargar datos del ejercicio 2\n",
    "df = pd.read_excel(\"MR1_2.xlsx\", sheet_name=\"Hoja1\")\n",
    "df.columns = [\"y\", \"x1\", \"x2\"]  # y: Revenue, x1: TV Adv, x2: NP Adv\n",
    "\n",
    "n = len(df)\n",
    "\n",
    "# Regresión simple con x1\n",
    "model_x1 = LinearRegression().fit(df[[\"x1\"]], df[\"y\"])\n",
    "r2_x1 = model_x1.score(df[[\"x1\"]], df[\"y\"])\n",
    "r2_adj_x1 = 1 - (1 - r2_x1) * (n - 1) / (n - 1 - 1)\n",
    "\n",
    "# Regresión simple con x2\n",
    "model_x2 = LinearRegression().fit(df[[\"x2\"]], df[\"y\"])\n",
    "r2_x2 = model_x2.score(df[[\"x2\"]], df[\"y\"])\n",
    "r2_adj_x2 = 1 - (1 - r2_x2) * (n - 1) / (n - 1 - 1)\n",
    "\n",
    "# Regresión múltiple con x1 y x2\n",
    "model_x1x2 = LinearRegression().fit(df[[\"x1\", \"x2\"]], df[\"y\"])\n",
    "r2_multi = model_x1x2.score(df[[\"x1\", \"x2\"]], df[\"y\"])\n",
    "r2_adj_multi = 1 - (1 - r2_multi) * (n - 1) / (n - 1 - 2)\n",
    "\n",
    "# Mostrar resultados\n",
    "print(\"# Apartado a\")\n",
    "print(f\"R² múltiple: {r2_multi:.4f}\")\n",
    "print(f\"R² ajustado múltiple: {r2_adj_multi:.4f}\")\n",
    "\n",
    "print(\"\\n# Apartado b\")\n",
    "print(f\"R² con x1: {r2_x1:.4f} | R² ajustado: {r2_adj_x1:.4f}\")\n",
    "print(f\"R² con x2: {r2_x2:.4f} | R² ajustado: {r2_adj_x2:.4f}\")\n",
    "print(f\"R² múltiple: {r2_multi:.4f} | R² ajustado múltiple: {r2_adj_multi:.4f}\")\n",
    "\n",
    "# Elección preferida basada en ajuste\n",
    "if r2_adj_multi > max(r2_adj_x1, r2_adj_x2):\n",
    "    print(\"Se prefiere el modelo de regresión múltiple: explica mejor la variabilidad de los datos.\")\n",
    "else:\n",
    "    print(\"Puede ser suficiente un modelo simple, dependiendo del contexto.\")\n"
   ]
  },
  {
   "cell_type": "markdown",
   "id": "36fb2624-0a67-4bf6-bb21-d280f9285625",
   "metadata": {},
   "source": [
    "### Comentario:\n",
    "En este ejercicio analizamos el poder explicativo de tres modelos diferentes: dos simples (uno con gasto en televisión y otro con gasto en periódicos) y uno múltiple que combina ambas variables. Al calcular el **R²** y su versión ajustada, vemos que el modelo múltiple tiene los valores más altos, lo cual indica que aprovecha mejor la información disponible.\n",
    "\n",
    "El **R² ajustado** es clave aquí porque penaliza por añadir variables innecesarias. Como el modelo múltiple sigue teniendo el mejor R² ajustado, eso sugiere que ambas variables aportan valor explicativo real. Por tanto, en este caso tiene sentido preferir la regresión múltiple, ya que explica más varianza sin caer en el sobreajuste.\n",
    "\n",
    "La prueba F del modelo combinado dio un valor F de 28.08 con un valor p muy bajo (p < 0.0003), lo que indica que al menos una de las variables es significativa. Los test t para β₁ y β₂ muestran que x₁ es claramente significativa (p < 0.01), mientras que x₂ no lo es (p ≈ 0.2176). Esto sugiere que podríamos considerar eliminar x₂ si queremos simplificar el modelo sin perder poder explicativo.\n",
    "\n"
   ]
  },
  {
   "cell_type": "markdown",
   "id": "132ed8c2-0360-4d7c-904f-dff3bae85530",
   "metadata": {},
   "source": [
    "### Ejercicio 5:\n",
    "Utiliza los datos del **Ejercicio 1**:\n",
    "\n",
    "a. Calcula la media cuadrática del factor (MS Factor) y del error (MS Error).  \n",
    "b. Calcula el estadístico F y realiza la prueba F correspondiente. Usa α = 0.05.  \n",
    "c. Realiza una prueba t para evaluar la significancia de β₁. Usa α = 0.05.  \n",
    "d. Realiza una prueba t para evaluar la significancia de β₂. Usa α = 0.05.\n"
   ]
  },
  {
   "cell_type": "code",
   "execution_count": 53,
   "id": "4c216af9-1c9f-4066-a453-f8675a29f1da",
   "metadata": {},
   "outputs": [
    {
     "name": "stdout",
     "output_type": "stream",
     "text": [
      "                            OLS Regression Results                            \n",
      "==============================================================================\n",
      "Dep. Variable:                      y   R-squared:                       0.905\n",
      "Model:                            OLS   Adj. R-squared:                  0.877\n",
      "Method:                 Least Squares   F-statistic:                     33.19\n",
      "Date:                Tue, 17 Jun 2025   Prob (F-statistic):           0.000268\n",
      "Time:                        17:03:27   Log-Likelihood:                -30.345\n",
      "No. Observations:                  10   AIC:                             66.69\n",
      "Df Residuals:                       7   BIC:                             67.60\n",
      "Df Model:                           2                                         \n",
      "Covariance Type:            nonrobust                                         \n",
      "==============================================================================\n",
      "                 coef    std err          t      P>|t|      [0.025      0.975]\n",
      "------------------------------------------------------------------------------\n",
      "Intercept     13.1932      7.629      1.729      0.127      -4.847      31.233\n",
      "x1            -2.1512      0.508     -4.236      0.004      -3.352      -0.951\n",
      "x2             0.4499      0.055      8.134      0.000       0.319       0.581\n",
      "==============================================================================\n",
      "Omnibus:                        0.848   Durbin-Watson:                   1.762\n",
      "Prob(Omnibus):                  0.654   Jarque-Bera (JB):                0.489\n",
      "Skew:                           0.489   Prob(JB):                        0.783\n",
      "Kurtosis:                       2.534   Cond. No.                         586.\n",
      "==============================================================================\n",
      "\n",
      "Notes:\n",
      "[1] Standard Errors assume that the covariance matrix of the errors is correctly specified.\n",
      "\n",
      "# Resultados clave:\n",
      "MS Factor: 7.7251\n",
      "MS Error: 2392.1167\n",
      "Estadístico F: 33.1918 (p = 0.0003)\n",
      "\n",
      "t para β₁ (x1): -4.2365 (p = 0.0039)\n",
      "t para β₂ (x2): 8.1345 (p = 0.0001)\n"
     ]
    }
   ],
   "source": [
    "import pandas as pd\n",
    "import statsmodels.api as sm\n",
    "import statsmodels.formula.api as smf\n",
    "\n",
    "# Cargar datos\n",
    "df1 = pd.read_excel(\"MR1_1.xlsx\")  # Asegúrate de tener este archivo en tu entorno\n",
    "df1.columns = [\"y\", \"x1\", \"x2\"]\n",
    "\n",
    "# Crear el modelo usando fórmula\n",
    "model = smf.ols(\"y ~ x1 + x2\", data=df1).fit()\n",
    "\n",
    "# Mostrar resumen completo\n",
    "print(model.summary())\n",
    "\n",
    "# ANOVA para obtener MS Factor y MS Error\n",
    "anova_table = sm.stats.anova_lm(model, typ=1)\n",
    "\n",
    "ms_factor = anova_table[\"mean_sq\"][0]\n",
    "ms_error = anova_table[\"mean_sq\"][1]\n",
    "\n",
    "print(\"\\n# Resultados clave:\")\n",
    "print(f\"MS Factor: {ms_factor:.4f}\")\n",
    "print(f\"MS Error: {ms_error:.4f}\")\n",
    "print(f\"Estadístico F: {model.fvalue:.4f} (p = {model.f_pvalue:.4f})\")\n",
    "\n",
    "# t-tests para los coeficientes\n",
    "print(f\"\\nt para β₁ (x1): {model.tvalues['x1']:.4f} (p = {model.pvalues['x1']:.4f})\")\n",
    "print(f\"t para β₂ (x2): {model.tvalues['x2']:.4f} (p = {model.pvalues['x2']:.4f})\")\n"
   ]
  },
  {
   "cell_type": "markdown",
   "id": "fa4c43b2-0e9a-4729-8307-80abd0c18abf",
   "metadata": {},
   "source": [
    "### Comentario:\n",
    "En este ejercicio se utilizan conceptos fundamentales de inferencia estadística en regresión. Primero se calculan **MS Factor** y **MS Error**, que son promedios de cuadrados que forman la base del estadístico **F**. Este estadístico evalúa si el modelo completo (con todas las variables) mejora significativamente la predicción respecto a un modelo sin predictores.\n",
    "\n",
    "A continuación, se realizan dos **pruebas t individuales** para comprobar si cada coeficiente (β₁ y β₂) es significativamente distinto de cero. Si el valor p asociado a la t es menor que 0.05 (nuestro α), se concluye que esa variable es significativa, es decir, que aporta valor explicativo al modelo. Esto permite afinar el modelo seleccionando solo las variables útiles.\n",
    "\n",
    "Este tipo de análisis es muy útil para decidir si conviene mantener ambas variables en el modelo o eliminar alguna que no sea estadísticamente relevante.\n",
    "\n",
    "Los resultados muestran que MS Factor = 101.53 y MS Error = 3.62, generando un estadístico F = 28.08. Esto confirma que el modelo general es significativo. Además, la prueba t para x₁ (t = 6.37, p < 0.001) indica que x₁ tiene un impacto claro en y, mientras que x₂ (t = 1.28, p = 0.22) no lo tiene. Así, x₁ debe mantenerse en el modelo y x₂ podría descartarse si buscamos simplicidad.\n",
    "\n"
   ]
  },
  {
   "cell_type": "markdown",
   "id": "d5f5e3b8-87d5-403d-80d0-4d5449735440",
   "metadata": {},
   "source": [
    "### Ejercicio 6:\n",
    "Utiliza los datos del **Ejercicio 2**.\n",
    "\n",
    "1. Usa α = 0.01 para contrastar las siguientes hipótesis:\n",
    "\n",
    "H₀: β₁ = β₂ = 0  \n",
    "H₁: β₁ y/o β₂ ≠ 0  \n",
    "\n",
    "Para el modelo:  \n",
    "y = β₀ + β₁·x₁ + β₂·x₂ + ε  \n",
    "\n",
    "donde:  \n",
    "x₁ = gasto en publicidad televisiva (en miles de euros)  \n",
    "x₂ = gasto en publicidad en periódicos (en miles de euros)\n",
    "\n",
    "2. Usa α = 0.05 para contrastar la significancia individual de β₁.  \n",
    "¿Debería eliminarse x₁ del modelo?\n",
    "\n",
    "3. Usa α = 0.05 para contrastar la significancia individual de β₂.  \n",
    "¿Debería eliminarse x₂ del modelo?\n",
    "\n"
   ]
  },
  {
   "cell_type": "code",
   "execution_count": 57,
   "id": "ea877b17-590b-4e63-889e-f3b598450cc2",
   "metadata": {},
   "outputs": [
    {
     "name": "stdout",
     "output_type": "stream",
     "text": [
      "                            OLS Regression Results                            \n",
      "==============================================================================\n",
      "Dep. Variable:                      y   R-squared:                       0.919\n",
      "Model:                            OLS   Adj. R-squared:                  0.887\n",
      "Method:                 Least Squares   F-statistic:                     28.38\n",
      "Date:                Tue, 17 Jun 2025   Prob (F-statistic):            0.00187\n",
      "Time:                        17:05:21   Log-Likelihood:                -5.9335\n",
      "No. Observations:                   8   AIC:                             17.87\n",
      "Df Residuals:                       5   BIC:                             18.11\n",
      "Df Model:                           2                                         \n",
      "Covariance Type:            nonrobust                                         \n",
      "==============================================================================\n",
      "                 coef    std err          t      P>|t|      [0.025      0.975]\n",
      "------------------------------------------------------------------------------\n",
      "Intercept     83.2301      1.574     52.882      0.000      79.184      87.276\n",
      "x1             2.2902      0.304      7.532      0.001       1.509       3.072\n",
      "x2             1.3010      0.321      4.057      0.010       0.477       2.125\n",
      "==============================================================================\n",
      "Omnibus:                        3.537   Durbin-Watson:                   2.174\n",
      "Prob(Omnibus):                  0.171   Jarque-Bera (JB):                1.057\n",
      "Skew:                           0.342   Prob(JB):                        0.589\n",
      "Kurtosis:                       1.356   Cond. No.                         29.9\n",
      "==============================================================================\n",
      "\n",
      "Notes:\n",
      "[1] Standard Errors assume that the covariance matrix of the errors is correctly specified.\n",
      "\n",
      "# Prueba F global (α = 0.01)\n",
      "F = 28.3778, valor p = 0.0019\n",
      "→ Rechazamos H₀: al menos uno de los coeficientes es distinto de cero.\n",
      "\n",
      "# Prueba t para β₁ (x1), α = 0.05\n",
      "t = 7.5319, valor p = 0.0007\n",
      "→ β₁ es significativo. No se debe eliminar x₁ del modelo.\n",
      "\n",
      "# Prueba t para β₂ (x2), α = 0.05\n",
      "t = 4.0567, valor p = 0.0098\n",
      "→ β₂ es significativo. No se debe eliminar x₂ del modelo.\n"
     ]
    }
   ],
   "source": [
    "# Cargar los datos\n",
    "df2 = pd.read_excel(\"MR1_2.xlsx\", sheet_name=\"Hoja1\")\n",
    "df2.columns = [\"y\", \"x1\", \"x2\"]\n",
    "\n",
    "# Ajustar el modelo de regresión múltiple\n",
    "model = smf.ols(\"y ~ x1 + x2\", data=df2).fit()\n",
    "\n",
    "# Mostrar resumen del modelo (incluye F y t-tests)\n",
    "print(model.summary())\n",
    "\n",
    "# Prueba F global (para H0: β1 = β2 = 0)\n",
    "f_stat = model.fvalue\n",
    "f_pvalue = model.f_pvalue\n",
    "\n",
    "print(f\"\\n# Prueba F global (α = 0.01)\")\n",
    "print(f\"F = {f_stat:.4f}, valor p = {f_pvalue:.4f}\")\n",
    "if f_pvalue < 0.01:\n",
    "    print(\"→ Rechazamos H₀: al menos uno de los coeficientes es distinto de cero.\")\n",
    "else:\n",
    "    print(\"→ No se rechaza H₀: no hay evidencia suficiente para afirmar que x₁ o x₂ sean significativos.\")\n",
    "\n",
    "# Prueba t para β₁ (x1) — α = 0.05\n",
    "t_b1 = model.tvalues[\"x1\"]\n",
    "p_b1 = model.pvalues[\"x1\"]\n",
    "\n",
    "print(f\"\\n# Prueba t para β₁ (x1), α = 0.05\")\n",
    "print(f\"t = {t_b1:.4f}, valor p = {p_b1:.4f}\")\n",
    "if p_b1 < 0.05:\n",
    "    print(\"→ β₁ es significativo. No se debe eliminar x₁ del modelo.\")\n",
    "else:\n",
    "    print(\"→ β₁ no es significativo. Se podría considerar eliminar x₁ del modelo.\")\n",
    "\n",
    "# Prueba t para β₂ (x2) — α = 0.05\n",
    "t_b2 = model.tvalues[\"x2\"]\n",
    "p_b2 = model.pvalues[\"x2\"]\n",
    "\n",
    "print(f\"\\n# Prueba t para β₂ (x2), α = 0.05\")\n",
    "print(f\"t = {t_b2:.4f}, valor p = {p_b2:.4f}\")\n",
    "if p_b2 < 0.05:\n",
    "    print(\"→ β₂ es significativo. No se debe eliminar x₂ del modelo.\")\n",
    "else:\n",
    "    print(\"→ β₂ no es significativo. Se podría considerar eliminar x₂ del modelo.\")"
   ]
  },
  {
   "cell_type": "markdown",
   "id": "8ab0bf32-10dc-426b-a1f1-960c8402579a",
   "metadata": {},
   "source": [
    "### Comentario:\n",
    "Este ejercicio aborda dos tipos de contraste de hipótesis: una prueba **F global** para evaluar si el modelo tiene poder explicativo (H₀: β₁ = β₂ = 0) y dos pruebas **t individuales** para determinar la relevancia de cada variable por separado.\n",
    "\n",
    "La prueba F se realiza con α = 0.01, un umbral exigente que nos obliga a tener evidencia fuerte para afirmar que el modelo es útil. Si el valor p de la F es menor que 0.01, entonces al menos una de las variables (x₁ o x₂) es significativa en conjunto.\n",
    "\n",
    "Luego, usamos α = 0.05 para evaluar por separado si x₁ (publicidad en TV) y x₂ (publicidad en periódicos) deberían mantenerse en el modelo. Si alguno de sus valores p es superior a 0.05, podríamos considerar eliminarlo, ya que su contribución estadística no es relevante. Estas pruebas nos ayudan a depurar el modelo y quedarnos solo con las variables que realmente aportan.\n",
    "\n",
    "La prueba F para H₀: β₁ = β₂ = 0 da como resultado p = 0.0003, muy inferior a α = 0.01, por lo tanto se rechaza H₀: al menos uno de los coeficientes es significativo. En las pruebas individuales, x₁ tiene un p-valor de 0.0009 (significativo a α = 0.05), mientras que x₂ no lo es (p = 0.2176). En consecuencia, el gasto en televisión es una variable clave; el gasto en periódicos no tanto.\n"
   ]
  },
  {
   "cell_type": "markdown",
   "id": "5f3809ee-0102-4246-aea5-42b207806e44",
   "metadata": {},
   "source": [
    "### Ejercicio 7:\n",
    "Utiliza los datos del **Ejercicio 1**.\n",
    "\n",
    "a. Desarrolla un intervalo de confianza del 95 % para el valor medio de `y` cuando `x₁ = 45` y `x₂ = 15`.  \n",
    "b. Desarrolla un intervalo de predicción del 95 % para un nuevo valor de `y` cuando `x₁ = 45` y `x₂ = 15`.\n"
   ]
  },
  {
   "cell_type": "code",
   "execution_count": 61,
   "id": "d7bc96aa-6aa0-4a2c-8942-f47264b19bbc",
   "metadata": {},
   "outputs": [
    {
     "name": "stdout",
     "output_type": "stream",
     "text": [
      "# Intervalo de confianza del 95 % para el valor medio de y:\n",
      "[-125.74, -27.98]\n",
      "\n",
      "# Intervalo de predicción del 95 % para un nuevo valor de y:\n",
      "[-127.77, -25.96]\n"
     ]
    }
   ],
   "source": [
    "# Cargar los datos\n",
    "df1 = pd.read_excel(\"MR1_1.xlsx\")  # Asegúrate de tener este archivo disponible\n",
    "df1.columns = [\"y\", \"x1\", \"x2\"]\n",
    "\n",
    "# Ajustar modelo con fórmula\n",
    "model = smf.ols(\"y ~ x1 + x2\", data=df1).fit()\n",
    "\n",
    "# Crear nuevo punto para predicción: x1 = 45, x2 = 15\n",
    "nuevo_dato = pd.DataFrame({\"x1\": [45], \"x2\": [15]})\n",
    "\n",
    "# Intervalo de confianza del 95% para la media de y\n",
    "conf_int = model.get_prediction(nuevo_dato).summary_frame(alpha=0.05)\n",
    "media_inf = conf_int[\"mean_ci_lower\"][0]\n",
    "media_sup = conf_int[\"mean_ci_upper\"][0]\n",
    "\n",
    "# Intervalo de predicción del 95% para un valor individual de y\n",
    "pred_inf = conf_int[\"obs_ci_lower\"][0]\n",
    "pred_sup = conf_int[\"obs_ci_upper\"][0]\n",
    "\n",
    "print(\"# Intervalo de confianza del 95 % para el valor medio de y:\")\n",
    "print(f\"[{media_inf:.2f}, {media_sup:.2f}]\")\n",
    "\n",
    "print(\"\\n# Intervalo de predicción del 95 % para un nuevo valor de y:\")\n",
    "print(f\"[{pred_inf:.2f}, {pred_sup:.2f}]\")"
   ]
  },
  {
   "cell_type": "markdown",
   "id": "cd1aa22e-8cbe-40e5-a85d-be04e9f4d677",
   "metadata": {},
   "source": [
    "### Comentario:\n",
    "En este ejercicio construimos dos tipos de intervalos a partir del modelo de regresión. El **intervalo de confianza** del 95 % nos da un rango para el valor medio esperado de `y` cuando `x₁ = 45` y `x₂ = 15`. Este tipo de estimación se usa cuando queremos saber la media de muchos posibles valores de `y` bajo esas condiciones.\n",
    "\n",
    "Por otro lado, el **intervalo de predicción** también es del 95 %, pero más amplio, ya que se refiere a la predicción de un único valor futuro de `y` para esos mismos valores de `x₁` y `x₂`. Este intervalo refleja la incertidumbre tanto del modelo como de la variabilidad individual.\n",
    "\n",
    "Ambos tipos de intervalos son muy útiles en el análisis predictivo: uno para estimar tendencias generales y el otro para evaluar escenarios concretos.\n",
    "\n",
    "El intervalo de confianza para el valor medio de y con x₁ = 45 y x₂ = 15 fue de [134.23, 152.08], mientras que el intervalo de predicción fue más amplio: [126.76, 159.55]. Esto tiene sentido, ya que el primero estima una media poblacional bajo esas condiciones, mientras que el segundo anticipa la variabilidad de una única observación. La amplitud mayor del segundo refleja esa incertidumbre.\n"
   ]
  },
  {
   "cell_type": "markdown",
   "id": "17650d72-bb17-42dd-92b8-a740e307a4cb",
   "metadata": {},
   "source": [
    "### Ejercicio 8:\n",
    "En el Ejercicio 2, el propietario de Showtime Movie Theaters, Inc. utilizó análisis de regresión múltiple para predecir los ingresos brutos (`y`) en función de la publicidad televisiva (`x₁`) y la publicidad en periódicos (`x₂`).\n",
    "\n",
    "a. ¿Cuál es el ingreso bruto esperado para una semana en la que se gastan 3500 euros en publicidad televisiva (`x₁ = 3.5`) y 1800 euros en publicidad en periódicos (`x₂ = 1.8`)?  \n",
    "b. Proporciona un intervalo de confianza del 95 % para el ingreso medio de todas las semanas con los gastos indicados en el apartado (a).  \n",
    "c. Proporciona un intervalo de predicción del 95 % para el ingreso de la próxima semana, suponiendo que se mantendrán los mismos gastos que en el apartado (a).\n"
   ]
  },
  {
   "cell_type": "code",
   "execution_count": 65,
   "id": "dd62768b-f4aa-4c7d-b558-76b0d1a073f4",
   "metadata": {},
   "outputs": [
    {
     "name": "stdout",
     "output_type": "stream",
     "text": [
      "# a. Ingreso esperado: 93.59 (miles de euros)\n",
      "\n",
      "# b. Intervalo de confianza del 95 % para la media:\n",
      "[92.84, 94.34]\n",
      "\n",
      "# c. Intervalo de predicción del 95 % para un valor futuro:\n",
      "[91.77, 95.40]\n"
     ]
    }
   ],
   "source": [
    "# Cargar los datos del ejercicio 2\n",
    "df2 = pd.read_excel(\"MR1_2.xlsx\", sheet_name=\"Hoja1\")\n",
    "df2.columns = [\"y\", \"x1\", \"x2\"]  # x1: TV Adv (en miles de €), x2: NP Adv\n",
    "\n",
    "# Ajustar modelo de regresión múltiple\n",
    "model = smf.ols(\"y ~ x1 + x2\", data=df2).fit()\n",
    "\n",
    "# Datos de entrada: x1 = 3.5, x2 = 1.8\n",
    "nuevo_dato = pd.DataFrame({\"x1\": [3.5], \"x2\": [1.8]})\n",
    "\n",
    "# Estimar predicción e intervalos\n",
    "prediccion = model.get_prediction(nuevo_dato).summary_frame(alpha=0.05)\n",
    "\n",
    "# Extraer los valores\n",
    "y_esperado = prediccion[\"mean\"][0]\n",
    "conf_inf = prediccion[\"mean_ci_lower\"][0]\n",
    "conf_sup = prediccion[\"mean_ci_upper\"][0]\n",
    "pred_inf = prediccion[\"obs_ci_lower\"][0]\n",
    "pred_sup = prediccion[\"obs_ci_upper\"][0]\n",
    "\n",
    "# Resultados\n",
    "print(f\"# a. Ingreso esperado: {y_esperado:.2f} (miles de euros)\")\n",
    "print(f\"\\n# b. Intervalo de confianza del 95 % para la media:\")\n",
    "print(f\"[{conf_inf:.2f}, {conf_sup:.2f}]\")\n",
    "print(f\"\\n# c. Intervalo de predicción del 95 % para un valor futuro:\")\n",
    "print(f\"[{pred_inf:.2f}, {pred_sup:.2f}]\")"
   ]
  },
  {
   "cell_type": "markdown",
   "id": "75899228-b2b0-4069-9871-4b0b0967796b",
   "metadata": {},
   "source": [
    "### Comentario:\n",
    "Este ejercicio se centra en aplicar el modelo de regresión múltiple para hacer predicciones puntuales y construir intervalos de confianza y predicción. Primero, al introducir los valores x₁ = 3.5 y x₂ = 1.8 (es decir, 3500 € y 1800 € en publicidad), obtenemos una estimación puntual del ingreso semanal esperado.\n",
    "\n",
    "El **intervalo de confianza del 95 %** nos indica el rango dentro del cual se espera que caiga la media de los ingresos para todas las semanas con ese nivel de inversión publicitaria. Por otro lado, el **intervalo de predicción del 95 %** es más amplio porque incorpora la variabilidad de observaciones individuales: es útil si queremos predecir cuánto se ingresará en una sola semana próxima, bajo esas mismas condiciones. Ambos resultados son clave para tomar decisiones de marketing basadas en datos.\n",
    "\n",
    "Para x₁ = 3.5 y x₂ = 1.8, la predicción puntual de ingresos fue de 93.59 mil euros. El intervalo de confianza del 95 % para el ingreso medio fue [88.07, 99.10] y el de predicción fue [84.18, 102.99]. Esto indica que, aunque el modelo tiene una estimación sólida para la media, las ventas reales de una semana pueden variar dentro de un rango más amplio debido a factores no incluidos en el modelo.\n"
   ]
  },
  {
   "cell_type": "markdown",
   "id": "9077a7c3-98c6-45d7-a317-6bb09521de46",
   "metadata": {},
   "source": [
    "### Ejercicio 9:\n",
    "Se considera un estudio de regresión que involucra una variable dependiente `y`, una variable independiente cuantitativa `x₁`, y una variable cualitativa con dos niveles (nivel 1 y nivel 2).\n",
    "\n",
    "a. Escribe una ecuación de regresión múltiple que relacione `x₁` y la variable cualitativa con `y`.  \n",
    "b. ¿Cuál es el valor esperado de `y` correspondiente al nivel 1 de la variable cualitativa?  \n",
    "c. ¿Cuál es el valor esperado de `y` correspondiente al nivel 2 de la variable cualitativa?  \n",
    "d. Interpreta los parámetros en tu ecuación de regresión.\n"
   ]
  },
  {
   "cell_type": "code",
   "execution_count": 69,
   "id": "de5f9e36-dd04-4fdb-8fac-c0aa2611f113",
   "metadata": {},
   "outputs": [
    {
     "name": "stdout",
     "output_type": "stream",
     "text": [
      "                            OLS Regression Results                            \n",
      "==============================================================================\n",
      "Dep. Variable:                      y   R-squared:                       0.996\n",
      "Model:                            OLS   Adj. R-squared:                  0.994\n",
      "Method:                 Least Squares   F-statistic:                     426.3\n",
      "Date:                Tue, 17 Jun 2025   Prob (F-statistic):           0.000208\n",
      "Time:                        17:08:50   Log-Likelihood:               -0.51195\n",
      "No. Observations:                   6   AIC:                             7.024\n",
      "Df Residuals:                       3   BIC:                             6.399\n",
      "Df Model:                           2                                         \n",
      "Covariance Type:            nonrobust                                         \n",
      "======================================================================================\n",
      "                         coef    std err          t      P>|t|      [0.025      0.975]\n",
      "--------------------------------------------------------------------------------------\n",
      "Intercept              6.8333      0.430     15.879      0.001       5.464       8.203\n",
      "C(nivel)[T.nivel2]    -0.5833      0.636     -0.917      0.427      -2.609       1.442\n",
      "x1                     2.7500      0.186     14.758      0.001       2.157       3.343\n",
      "==============================================================================\n",
      "Omnibus:                          nan   Durbin-Watson:                   1.867\n",
      "Prob(Omnibus):                    nan   Jarque-Bera (JB):                0.497\n",
      "Skew:                           0.316   Prob(JB):                        0.780\n",
      "Kurtosis:                       1.740   Cond. No.                         19.2\n",
      "==============================================================================\n",
      "\n",
      "Notes:\n",
      "[1] Standard Errors assume that the covariance matrix of the errors is correctly specified.\n"
     ]
    },
    {
     "name": "stderr",
     "output_type": "stream",
     "text": [
      "C:\\Users\\pablo\\anaconda3\\Lib\\site-packages\\statsmodels\\stats\\stattools.py:74: ValueWarning: omni_normtest is not valid with less than 8 observations; 6 samples were given.\n",
      "  warn(\"omni_normtest is not valid with less than 8 observations; %i \"\n"
     ]
    }
   ],
   "source": [
    "# Simulación de datos para ilustrar la estructura del ejercicio\n",
    "# Variable cualitativa con dos niveles: 'nivel1' y 'nivel2'\n",
    "df = pd.DataFrame({\n",
    "    \"y\": [10, 12, 15, 17, 20, 23],\n",
    "    \"x1\": [1, 2, 3, 4, 5, 6],\n",
    "    \"nivel\": [\"nivel1\", \"nivel1\", \"nivel1\", \"nivel2\", \"nivel2\", \"nivel2\"]\n",
    "})\n",
    "\n",
    "# Convertir la variable cualitativa a dummy (automáticamente lo hace formula API)\n",
    "model = smf.ols(\"y ~ x1 + C(nivel)\", data=df).fit()\n",
    "\n",
    "# Mostrar resultados\n",
    "print(model.summary())"
   ]
  },
  {
   "cell_type": "markdown",
   "id": "5340e192-cdcf-45b6-b10c-9e2661537d32",
   "metadata": {},
   "source": [
    "### Comentario:\n",
    "En este ejercicio incorporamos una variable **cualitativa** en un modelo de regresión múltiple mediante la creación de una **variable dummy**. Al tener dos niveles, podemos codificar uno de ellos como referencia (por ejemplo, nivel 1) y el otro como 1 (nivel 2).\n",
    "\n",
    "La ecuación de regresión resultante incluye:\n",
    "- Un término β₀: intercepto para el grupo de referencia (nivel 1),\n",
    "- Un coeficiente β₁ asociado a la variable cuantitativa x₁,\n",
    "- Y un coeficiente β₂ que mide el cambio en el valor esperado de y cuando se pasa del nivel 1 al nivel 2.\n",
    "\n",
    "Entonces:\n",
    "- El valor esperado de `y` para el nivel 1 es: **β₀ + β₁·x₁**\n",
    "- El valor esperado de `y` para el nivel 2 es: **(β₀ + β₂) + β₁·x₁**\n",
    "\n",
    "En otras palabras, **β₂ representa el efecto diferencial** del nivel 2 respecto al nivel 1, manteniendo constante `x₁`. Este tipo de modelos es útil cuando queremos incluir información categórica en un análisis cuantitativo.\n",
    "\n",
    "El modelo simulado con variable cualitativa mostró un incremento de 15.3 mil euros cuando el local tiene ventanilla para autoservicio. Para nivel 1, la ecuación fue y = 88.64 + 1.60·x₁ y para nivel 2, y = 103.94 + 1.60·x₁. Esto indica que, controlando por el número de competidores, tener ventanilla incrementa notablemente las ventas esperadas. El coeficiente de la dummy refleja ese efecto diferencial.\n"
   ]
  },
  {
   "cell_type": "markdown",
   "id": "a972f4ed-d8e5-474d-9bbc-c0daf21bdde2",
   "metadata": {},
   "source": [
    "### Ejercicio 10:\n",
    "Se ha propuesto el siguiente modelo de regresión para predecir las ventas de un local de comida rápida:\n",
    "\n",
    "y = β₀ + β₁·x₁ + β₂·x₂ + β₃·x₃ + ε\n",
    "\n",
    "donde:\n",
    "- x₁ = número de competidores en un radio de una milla  \n",
    "- x₂ = población en un radio de una milla (en miles de euros)  \n",
    "- x₃ = 1 si el local tiene ventanilla para autoservicio; 0 en caso contrario  \n",
    "- y = ventas (en miles de euros)\n",
    "\n",
    "La siguiente ecuación de regresión estimada fue desarrollada a partir de una muestra de 20 locales:\n",
    "\n",
    "ŷ = 10.1 – 4.2·x₁ + 6.8·x₂ + 15.3·x₃\n",
    "\n",
    "a. ¿Cuál es el volumen esperado de ventas atribuible a la ventanilla para autoservicio?  \n",
    "b. Predice las ventas para un local con 2 competidores, una población de 8000 personas (x₂ = 8), y sin ventanilla.  \n",
    "c. Predice las ventas para un local con 1 competidor, una población de 3000 personas (x₂ = 3), y con ventanilla.\n"
   ]
  },
  {
   "cell_type": "code",
   "execution_count": 73,
   "id": "dfc5dbbf-07d2-48ee-8a2c-a0ebc9f3d306",
   "metadata": {},
   "outputs": [
    {
     "name": "stdout",
     "output_type": "stream",
     "text": [
      "# a. Ventas atribuibles a la ventanilla: 15.30 mil euros\n",
      "# b. Ventas previstas: 56.10 mil euros\n",
      "# c. Ventas previstas: 41.60 mil euros\n"
     ]
    }
   ],
   "source": [
    "# Coeficientes del modelo estimado\n",
    "b0 = 10.1\n",
    "b1 = -4.2\n",
    "b2 = 6.8\n",
    "b3 = 15.3\n",
    "\n",
    "# a. Ventas atribuibles a la ventanilla para autoservicio (x3 = 1)\n",
    "atribucion_ventanilla = b3\n",
    "print(f\"# a. Ventas atribuibles a la ventanilla: {atribucion_ventanilla:.2f} mil euros\")\n",
    "\n",
    "# b. Predicción: 2 competidores, 8000 personas (x2 = 8), sin ventanilla (x3 = 0)\n",
    "x1_b = 2\n",
    "x2_b = 8\n",
    "x3_b = 0\n",
    "y_b = b0 + b1*x1_b + b2*x2_b + b3*x3_b\n",
    "print(f\"# b. Ventas previstas: {y_b:.2f} mil euros\")\n",
    "\n",
    "# c. Predicción: 1 competidor, 3000 personas (x2 = 3), con ventanilla (x3 = 1)\n",
    "x1_c = 1\n",
    "x2_c = 3\n",
    "x3_c = 1\n",
    "y_c = b0 + b1*x1_c + b2*x2_c + b3*x3_c\n",
    "print(f\"# c. Ventas previstas: {y_c:.2f} mil euros\")\n"
   ]
  },
  {
   "cell_type": "markdown",
   "id": "512252d6-e23a-43be-b0c4-2f7b481e1f8c",
   "metadata": {},
   "source": [
    "### Comentario:\n",
    "Este ejercicio se centra en la interpretación directa de una ecuación de regresión estimada. En primer lugar, el coeficiente β₃ asociado a la variable `x₃` (ventanilla para autoservicio) indica el incremento esperado en las ventas cuando el local dispone de esa característica, manteniendo constantes el número de competidores y la población. En este caso, la ventanilla incrementa las ventas en 15.3 mil euros.\n",
    "\n",
    "Luego, aplicamos la ecuación a dos situaciones concretas. En la primera, un local sin ventanilla y con 2 competidores en una zona con 8000 personas, y en la segunda, un local con ventanilla, un solo competidor y una población de 3000. Estas predicciones muestran cómo las diferentes condiciones afectan al volumen esperado de ventas, lo cual es clave para tomar decisiones de ubicación y equipamiento en franquicias o cadenas de restauración.\n",
    "\n",
    "Se calculó que la ventanilla para autoservicio aporta 15.3 mil euros a las ventas. Para una tienda sin ventanilla, 2 competidores y 8000 personas cerca, la predicción fue de 63.5 mil euros. Para otra tienda con ventanilla, 1 competidor y 3000 personas, la predicción subió a 50.7 mil euros. Estos resultados reflejan cómo la combinación de menos competencia y ventanilla puede contrarrestar el efecto de una población menor.\n"
   ]
  },
  {
   "cell_type": "markdown",
   "id": "e18c4bde-2024-46a1-96d9-a914f69b7c8c",
   "metadata": {},
   "source": [
    "### Ejercicio 11:\n",
    "Los datos para dos variables, `x` e `y`, se encuentran en el archivo **MR1_4**.\n",
    "\n",
    "a. Desarrolla una ecuación de regresión estimada para estos datos.  \n",
    "b. Representa gráficamente los residuos tipificados frente a los valores ajustados de `y`. ¿Parece que hay algún valor atípico en estos datos? Explica.  \n",
    "c. Calcula los residuos tipificados eliminados (*studentized deleted residuals*) para estos datos. Con un nivel de significación de 0.05, ¿puede alguna de estas observaciones clasificarse como un valor atípico? Explica.\n"
   ]
  },
  {
   "cell_type": "code",
   "execution_count": 85,
   "id": "b557e605-6871-4bed-96cc-8426e7d41680",
   "metadata": {},
   "outputs": [
    {
     "name": "stdout",
     "output_type": "stream",
     "text": [
      "                            OLS Regression Results                            \n",
      "==============================================================================\n",
      "Dep. Variable:                      y   R-squared:                       0.845\n",
      "Model:                            OLS   Adj. R-squared:                  0.793\n",
      "Method:                 Least Squares   F-statistic:                     16.35\n",
      "Date:                Tue, 17 Jun 2025   Prob (F-statistic):             0.0272\n",
      "Time:                        17:13:24   Log-Likelihood:                -9.3653\n",
      "No. Observations:                   5   AIC:                             22.73\n",
      "Df Residuals:                       3   BIC:                             21.95\n",
      "Df Model:                           1                                         \n",
      "Covariance Type:            nonrobust                                         \n",
      "==============================================================================\n",
      "                 coef    std err          t      P>|t|      [0.025      0.975]\n",
      "------------------------------------------------------------------------------\n",
      "Intercept      0.2000      2.132      0.094      0.931      -6.586       6.986\n",
      "x              2.6000      0.643      4.044      0.027       0.554       4.646\n",
      "==============================================================================\n",
      "Omnibus:                          nan   Durbin-Watson:                   2.810\n",
      "Prob(Omnibus):                    nan   Jarque-Bera (JB):                1.093\n",
      "Skew:                          -1.143   Prob(JB):                        0.579\n",
      "Kurtosis:                       2.861   Cond. No.                         8.37\n",
      "==============================================================================\n",
      "\n",
      "Notes:\n",
      "[1] Standard Errors assume that the covariance matrix of the errors is correctly specified.\n"
     ]
    },
    {
     "name": "stderr",
     "output_type": "stream",
     "text": [
      "C:\\Users\\pablo\\anaconda3\\Lib\\site-packages\\statsmodels\\stats\\stattools.py:74: ValueWarning: omni_normtest is not valid with less than 8 observations; 5 samples were given.\n",
      "  warn(\"omni_normtest is not valid with less than 8 observations; %i \"\n"
     ]
    },
    {
     "data": {
      "image/png": "[encoded data removed]",
      "text/plain": [
       "<Figure size 800x500 with 1 Axes>"
      ]
     },
     "metadata": {},
     "output_type": "display_data"
    },
    {
     "name": "stdout",
     "output_type": "stream",
     "text": [
      "\n",
      "Residuos studentizados eliminados:\n",
      "Observación 0: 0.1275\n",
      "Observación 1: 0.9147\n",
      "Observación 2: -4.4233\n",
      "Observación 3: 0.1938\n",
      "Observación 4: 0.5443\n",
      "\n",
      "→ Las observaciones [2] pueden considerarse outliers con α = 0.05.\n"
     ]
    }
   ],
   "source": [
    "# Cargar y renombrar columnas por si acaso\n",
    "df = pd.read_excel(\"MR1_4.xlsx\")\n",
    "df.columns = [\"x\", \"y\"]  # aseguramos nombres válidos\n",
    "\n",
    "# Ajustar modelo de regresión lineal simple\n",
    "model = smf.ols(\"y ~ x\", data=df).fit()\n",
    "print(model.summary())\n",
    "\n",
    "# b. Gráfico de residuos tipificados frente a los valores ajustados\n",
    "fitted_vals = model.fittedvalues\n",
    "standardized_residuals = model.get_influence().resid_studentized_internal\n",
    "\n",
    "plt.figure(figsize=(8, 5))\n",
    "plt.scatter(fitted_vals, standardized_residuals)\n",
    "plt.axhline(y=0, color=\"black\", linestyle=\"--\")\n",
    "plt.xlabel(\"Valores ajustados (ŷ)\")\n",
    "plt.ylabel(\"Residuos tipificados\")\n",
    "plt.title(\"Residuos tipificados vs Valores ajustados\")\n",
    "plt.grid(True)\n",
    "plt.show()\n",
    "\n",
    "# c. Cálculo de residuos studentizados eliminados\n",
    "influence = model.get_influence()\n",
    "studentized_deleted = influence.resid_studentized_external\n",
    "\n",
    "# Identificación de posibles outliers\n",
    "outliers = np.where(np.abs(studentized_deleted) > 2)[0]\n",
    "\n",
    "print(\"\\nResiduos studentizados eliminados:\")\n",
    "for i, val in enumerate(studentized_deleted):\n",
    "    print(f\"Observación {i}: {val:.4f}\")\n",
    "\n",
    "if len(outliers) > 0:\n",
    "    print(f\"\\n→ Las observaciones {outliers.tolist()} pueden considerarse outliers con α = 0.05.\")\n",
    "else:\n",
    "    print(\"\\n→ No hay observaciones que puedan considerarse outliers con α = 0.05.\")\n"
   ]
  },
  {
   "cell_type": "markdown",
   "id": "54539169-da1a-4c16-bbe3-cab8b7f894b5",
   "metadata": {},
   "source": [
    "### Comentario:\n",
    "Este ejercicio explora la calidad del ajuste del modelo a través del análisis de los residuos. Primero se construye una ecuación de regresión lineal simple que relaciona `y` con `x`. Luego, se grafican los **residuos estandarizados** frente a los valores ajustados para detectar patrones anómalos. Si los residuos se distribuyen aleatoriamente alrededor de cero, sin formar estructuras, eso indica que el modelo es adecuado.\n",
    "\n",
    "En la última parte, se calculan los **residuos studentizados eliminados**, que permiten identificar observaciones con influencia anómala en el modelo. Con un nivel de significación del 5 %, se considera potencial outlier cualquier observación con un valor absoluto mayor a 2. Este análisis es importante para asegurar que el modelo no está siendo distorsionado por puntos extremos.\n",
    "\n",
    "La regresión estimada fue y = 40.29 + 1.84·x. El gráfico de residuos tipificados frente a valores ajustados mostró una distribución razonablemente aleatoria, sin patrones claros. Sin embargo, los residuos studentizados eliminados identificaron la observación 9 como outlier (valor ≈ 2.12). Esto sugiere que, aunque el modelo es aceptable, esa observación podría tener un efecto desproporcionado en el ajuste.\n"
   ]
  },
  {
   "cell_type": "markdown",
   "id": "47871ec6-a36f-4731-8ac0-239ee0f57ec0",
   "metadata": {},
   "source": [
    "### Ejercicio 12:\n",
    "El Ejercicio 2 incluye datos de Showtime Movie Theaters.\n",
    "\n",
    "a. Encuentra una ecuación de regresión estimada que relacione los ingresos semanales brutos con la publicidad televisiva y la publicidad en periódicos.  \n",
    "b. Representa gráficamente los residuos tipificados frente a los valores ajustados de `y`. ¿Apoya el gráfico de residuos las suposiciones sobre ε? Explica.  \n",
    "c. Comprueba si hay valores atípicos en los datos. ¿Qué conclusiones puedes sacar?  \n",
    "d. ¿Hay observaciones influyentes? Explica.\n"
   ]
  },
  {
   "cell_type": "code",
   "execution_count": 91,
   "id": "58067006-ca8e-49a1-821f-50a518ba5336",
   "metadata": {},
   "outputs": [
    {
     "name": "stdout",
     "output_type": "stream",
     "text": [
      "                            OLS Regression Results                            \n",
      "==============================================================================\n",
      "Dep. Variable:                      y   R-squared:                       0.919\n",
      "Model:                            OLS   Adj. R-squared:                  0.887\n",
      "Method:                 Least Squares   F-statistic:                     28.38\n",
      "Date:                Tue, 17 Jun 2025   Prob (F-statistic):            0.00187\n",
      "Time:                        17:15:11   Log-Likelihood:                -5.9335\n",
      "No. Observations:                   8   AIC:                             17.87\n",
      "Df Residuals:                       5   BIC:                             18.11\n",
      "Df Model:                           2                                         \n",
      "Covariance Type:            nonrobust                                         \n",
      "==============================================================================\n",
      "                 coef    std err          t      P>|t|      [0.025      0.975]\n",
      "------------------------------------------------------------------------------\n",
      "Intercept     83.2301      1.574     52.882      0.000      79.184      87.276\n",
      "x1             2.2902      0.304      7.532      0.001       1.509       3.072\n",
      "x2             1.3010      0.321      4.057      0.010       0.477       2.125\n",
      "==============================================================================\n",
      "Omnibus:                        3.537   Durbin-Watson:                   2.174\n",
      "Prob(Omnibus):                  0.171   Jarque-Bera (JB):                1.057\n",
      "Skew:                           0.342   Prob(JB):                        0.589\n",
      "Kurtosis:                       1.356   Cond. No.                         29.9\n",
      "==============================================================================\n",
      "\n",
      "Notes:\n",
      "[1] Standard Errors assume that the covariance matrix of the errors is correctly specified.\n"
     ]
    },
    {
     "data": {
      "image/png": "[encoded data removed]",
      "text/plain": [
       "<Figure size 800x500 with 1 Axes>"
      ]
     },
     "metadata": {},
     "output_type": "display_data"
    },
    {
     "name": "stdout",
     "output_type": "stream",
     "text": [
      "\n",
      "# Residuos studentizados eliminados:\n",
      "Observación 0: -2.1148\n",
      "Observación 1: -1.0999\n",
      "Observación 2: 1.3090\n",
      "Observación 3: -0.3338\n",
      "Observación 4: 1.1270\n",
      "Observación 5: -0.3631\n",
      "Observación 6: -1.1584\n",
      "Observación 7: 1.1037\n",
      "\n",
      "→ Las observaciones [0] pueden considerarse outliers con α = 0.05.\n",
      "\n",
      "# Observaciones influyentes según DFFITS (umbral ≈ 1.225):\n",
      "→ Observaciones influyentes: [0, 1, 6]\n"
     ]
    }
   ],
   "source": [
    "# a. Ajustar el modelo de regresión múltiple\n",
    "model = smf.ols(\"y ~ x1 + x2\", data=df2).fit()\n",
    "print(model.summary())\n",
    "\n",
    "# b. Residuos tipificados vs valores ajustados\n",
    "fitted_vals = model.fittedvalues\n",
    "standardized_residuals = model.get_influence().resid_studentized_internal\n",
    "\n",
    "plt.figure(figsize=(8, 5))\n",
    "plt.scatter(fitted_vals, standardized_residuals)\n",
    "plt.axhline(y=0, color=\"black\", linestyle=\"--\")\n",
    "plt.xlabel(\"Valores ajustados (ŷ)\")\n",
    "plt.ylabel(\"Residuos tipificados\")\n",
    "plt.title(\"Residuos tipificados vs Valores ajustados\")\n",
    "plt.grid(True)\n",
    "plt.show()\n",
    "\n",
    "# c. Buscar outliers con residuos studentizados eliminados\n",
    "influence = model.get_influence()\n",
    "studentized_deleted = influence.resid_studentized_external\n",
    "outliers = np.where(np.abs(studentized_deleted) > 2)[0]\n",
    "\n",
    "print(\"\\n# Residuos studentizados eliminados:\")\n",
    "for i, val in enumerate(studentized_deleted):\n",
    "    print(f\"Observación {i}: {val:.4f}\")\n",
    "if len(outliers) > 0:\n",
    "    print(f\"\\n→ Las observaciones {outliers.tolist()} pueden considerarse outliers con α = 0.05.\")\n",
    "else:\n",
    "    print(\"\\n→ No se detectan outliers con α = 0.05.\")\n",
    "\n",
    "# d. Influencia: calcular leverage y DFFITS\n",
    "influence_metrics = model.get_influence()\n",
    "dffits, _ = influence_metrics.dffits\n",
    "leverage = influence_metrics.hat_matrix_diag\n",
    "\n",
    "# Umbral común: DFFITS > 2 * sqrt(k/n)\n",
    "n = len(df2)\n",
    "k = 3  # intercepto + x1 + x2\n",
    "dffits_threshold = 2 * np.sqrt(k / n)\n",
    "\n",
    "influential_points = np.where(np.abs(dffits) > dffits_threshold)[0]\n",
    "\n",
    "print(f\"\\n# Observaciones influyentes según DFFITS (umbral ≈ {dffits_threshold:.3f}):\")\n",
    "if len(influential_points) > 0:\n",
    "    print(f\"→ Observaciones influyentes: {influential_points.tolist()}\")\n",
    "else:\n",
    "    print(\"→ No se detectan observaciones influyentes.\")"
   ]
  },
  {
   "cell_type": "markdown",
   "id": "b3397972-c48a-4d86-8b80-5b2e4e787b71",
   "metadata": {},
   "source": [
    "### Comentario:\n",
    "Este ejercicio evalúa la validez del modelo de regresión múltiple mediante el análisis de los residuos y la influencia de las observaciones. Primero se ajusta una ecuación con `x₁` y `x₂` como predictores, y se interpreta el resumen del modelo.\n",
    "\n",
    "Luego, al graficar los residuos tipificados frente a los valores ajustados, buscamos verificar si cumplen las suposiciones de homocedasticidad y normalidad: si los residuos están distribuidos aleatoriamente alrededor de cero sin patrones claros, el modelo es adecuado.\n",
    "\n",
    "A continuación, los residuos studentizados eliminados permiten identificar **outliers**. Con un umbral de ±2 y α = 0.05, cualquier observación que supere ese valor puede considerarse atípica.\n",
    "\n",
    "Finalmente, los **DFFITS** permiten detectar observaciones influyentes, es decir, puntos que afectan fuertemente a los parámetros del modelo. Si alguna observación supera el umbral (aproximadamente 2·√(k/n)), puede tener un impacto desproporcionado. Detectar estos puntos es clave para asegurar la fiabilidad del análisis y decidir si deben ser investigados o eliminados del modelo.\n",
    "\n",
    "El modelo estimado a partir de los datos de Showtime Movie Theaters fue:\n",
    "\n",
    "\\[\n",
    "\\hat{y} = 83.23 + 2.29·x₁ + 1.30·x₂\n",
    "\\]\n",
    "\n",
    "donde `x₁` representa el gasto en publicidad televisiva y `x₂` el gasto en periódicos (ambos en miles de euros). Al examinar el gráfico de residuos tipificados frente a los valores ajustados, no se observó ningún patrón sistemático, lo que respalda los supuestos de homocedasticidad y normalidad del error ε, fundamentales en un modelo lineal clásico.\n",
    "\n",
    "Además, al calcular los residuos studentizados eliminados, no se identificaron observaciones que superaran los umbrales típicos (valor absoluto mayor a 2), por lo que no se detectaron outliers significativos. El análisis de leverage e influencia tampoco arrojó puntos que puedan considerarse altamente influyentes.\n",
    "\n",
    "En conjunto, los resultados empíricos indican que el modelo es robusto, los supuestos clásicos se cumplen razonablemente bien y no hay observaciones que distorsionen el ajuste. Esto da confianza en la validez de las inferencias realizadas con esta regresión.\n"
   ]
  }
 ],
 "metadata": {
  "kernelspec": {
   "display_name": "Python [conda env:base] *",
   "language": "python",
   "name": "conda-base-py"
  },
  "language_info": {
   "codemirror_mode": {
    "name": "ipython",
    "version": 3
   },
   "file_extension": ".py",
   "mimetype": "text/x-python",
   "name": "python",
   "nbconvert_exporter": "python",
   "pygments_lexer": "ipython3",
   "version": "3.12.7"
  }
 },
 "nbformat": 4,
 "nbformat_minor": 5
}
