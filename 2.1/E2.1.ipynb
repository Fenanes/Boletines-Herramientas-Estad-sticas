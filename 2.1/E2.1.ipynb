{
 "cells": [
  {
   "cell_type": "code",
   "execution_count": 12,
   "id": "20f57e0c-6833-4e27-9350-ebac24baa861",
   "metadata": {},
   "outputs": [],
   "source": [
    "import pandas as pd\n",
    "import numpy as np\n",
    "from sklearn.linear_model import LinearRegression\n",
    "import warnings\n",
    "warnings.filterwarnings('ignore')"
   ]
  },
  {
   "cell_type": "markdown",
   "id": "f2f917c3-61e2-40b5-8721-00c7625aa69c",
   "metadata": {},
   "source": [
    "### Ejercicio 1:\n",
    "Considera los datos en el archivo **MR1_1**, que involucra una variable dependiente \\( y \\) y dos variables independientes, \\( x1 \\) y \\( x2 \\).\n",
    "\n",
    "a. Usando estos datos, desarrolla una ecuación de regresión estimada que relacione \\( y \\) con \\( x1 \\). Estima \\( y \\) si \\( x1 = 45 \\).\n",
    "\n",
    "b. Usando estos datos, desarrolla una ecuación de regresión estimada que relacione \\( y \\) con \\( x2 \\). Estima \\( y \\) si \\( x2 = 15 \\).\n",
    "\n",
    "c. Usando estos datos, desarrolla una ecuación de regresión estimada que relacione \\( y \\) con \\( x1 \\) y \\( x2 \\). Estima \\( y \\) si \\( x1 = 45 \\) y \\( x2 = 15 \\)."
   ]
  },
  {
   "cell_type": "code",
   "execution_count": 15,
   "id": "6e7ecda8-f6c4-480c-b6fe-fdd8e8913da3",
   "metadata": {},
   "outputs": [
    {
     "name": "stdout",
     "output_type": "stream",
     "text": [
      "Datos cargados desde el archivo MR1_1:\n",
      "   x1  x2    y\n",
      "0  30  12   94\n",
      "1  47  10  108\n",
      "2  25  17  112\n",
      "3  51  16  178\n",
      "4  40   5   94\n",
      "\n",
      "a. Ecuación de regresión estimada relacionando y con x1:\n",
      "y = 45.0594 + 1.9436 * x1\n",
      "   Estimación de y cuando x1 = 45: 132.5201\n",
      "\n",
      "b. Ecuación de regresión estimada relacionando y con x2:\n",
      "y = 85.2171 + 4.3215 * x2\n",
      "   Estimación de y cuando x2 = 15: 150.0394\n",
      "\n",
      "c. Ecuación de regresión estimada relacionando y con x1 y x2:\n",
      "y = -18.3683 + 2.0102 * x1 + 4.7378 * x2\n",
      "   Estimación de y cuando x1 = 45 y x2 = 15: 143.1572\n"
     ]
    }
   ],
   "source": [
    "# a. Leer los datos desde el archivo MR1_1 (suponiendo que es un archivo Excel)\n",
    "archivo_excel = \"MR1_1.xls\"  # Cambia esto si el archivo tiene otro nombre o extensión\n",
    "df = pd.read_excel(archivo_excel)\n",
    "\n",
    "# Verificar que las columnas se llaman \"y\", \"x1\" y \"x2\"\n",
    "print(\"Datos cargados desde el archivo MR1_1:\")\n",
    "print(df.head())\n",
    "\n",
    "# a. Ecuación de regresión estimada relacionando y con x1\n",
    "modelo_x1 = LinearRegression()\n",
    "modelo_x1.fit(df[[\"x1\"]], df[\"y\"])\n",
    "\n",
    "# Coeficientes de la ecuación de regresión\n",
    "intercepto_x1 = modelo_x1.intercept_\n",
    "pendiente_x1 = modelo_x1.coef_[0]\n",
    "\n",
    "print(\"\\na. Ecuación de regresión estimada relacionando y con x1:\")\n",
    "print(f\"y = {intercepto_x1:.4f} + {pendiente_x1:.4f} * x1\")\n",
    "\n",
    "# Estimar y si x1 = 45\n",
    "y_estimado_x1 = modelo_x1.predict([[45]])\n",
    "print(f\"   Estimación de y cuando x1 = 45: {y_estimado_x1[0]:.4f}\")\n",
    "\n",
    "# b. Ecuación de regresión estimada relacionando y con x2\n",
    "modelo_x2 = LinearRegression()\n",
    "modelo_x2.fit(df[[\"x2\"]], df[\"y\"])\n",
    "\n",
    "# Coeficientes de la ecuación de regresión\n",
    "intercepto_x2 = modelo_x2.intercept_\n",
    "pendiente_x2 = modelo_x2.coef_[0]\n",
    "\n",
    "print(\"\\nb. Ecuación de regresión estimada relacionando y con x2:\")\n",
    "print(f\"y = {intercepto_x2:.4f} + {pendiente_x2:.4f} * x2\")\n",
    "\n",
    "# Estimar y si x2 = 15\n",
    "y_estimado_x2 = modelo_x2.predict([[15]])\n",
    "print(f\"   Estimación de y cuando x2 = 15: {y_estimado_x2[0]:.4f}\")\n",
    "\n",
    "# c. Ecuación de regresión estimada relacionando y con x1 y x2\n",
    "modelo_x1_x2 = LinearRegression()\n",
    "modelo_x1_x2.fit(df[[\"x1\", \"x2\"]], df[\"y\"])\n",
    "\n",
    "# Coeficientes de la ecuación de regresión\n",
    "intercepto_x1_x2 = modelo_x1_x2.intercept_\n",
    "pendiente_x1_x1_x2 = modelo_x1_x2.coef_[0]\n",
    "pendiente_x2_x1_x2 = modelo_x1_x2.coef_[1]\n",
    "\n",
    "print(\"\\nc. Ecuación de regresión estimada relacionando y con x1 y x2:\")\n",
    "print(f\"y = {intercepto_x1_x2:.4f} + {pendiente_x1_x1_x2:.4f} * x1 + {pendiente_x2_x1_x2:.4f} * x2\")\n",
    "\n",
    "# Estimar y si x1 = 45 y x2 = 15\n",
    "y_estimado_x1_x2 = modelo_x1_x2.predict([[45, 15]])\n",
    "print(f\"   Estimación de y cuando x1 = 45 y x2 = 15: {y_estimado_x1_x2[0]:.4f}\")"
   ]
  },
  {
   "cell_type": "code",
   "execution_count": null,
   "id": "19b01a1f-dba6-411f-ad74-aeb80c53bb33",
   "metadata": {},
   "outputs": [],
   "source": []
  }
 ],
 "metadata": {
  "kernelspec": {
   "display_name": "Python [conda env:base] *",
   "language": "python",
   "name": "conda-base-py"
  },
  "language_info": {
   "codemirror_mode": {
    "name": "ipython",
    "version": 3
   },
   "file_extension": ".py",
   "mimetype": "text/x-python",
   "name": "python",
   "nbconvert_exporter": "python",
   "pygments_lexer": "ipython3",
   "version": "3.12.7"
  }
 },
 "nbformat": 4,
 "nbformat_minor": 5
}
