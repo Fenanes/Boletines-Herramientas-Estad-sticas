{
 "cells": [
  {
   "cell_type": "code",
   "execution_count": 6,
   "id": "20f57e0c-6833-4e27-9350-ebac24baa861",
   "metadata": {},
   "outputs": [],
   "source": [
    "import pandas as pd\n",
    "import numpy as np\n",
    "from sklearn.linear_model import LinearRegression"
   ]
  },
  {
   "cell_type": "markdown",
   "id": "f2f917c3-61e2-40b5-8721-00c7625aa69c",
   "metadata": {},
   "source": [
    "### Ejercicio 1:\n",
    "Considera los datos en el archivo **MR1_1**, que involucra una variable dependiente \\( y \\) y dos variables independientes, \\( x1 \\) y \\( x2 \\).\n",
    "\n",
    "a. Usando estos datos, desarrolla una ecuación de regresión estimada que relacione \\( y \\) con \\( x1 \\). Estima \\( y \\) si \\( x1 = 45 \\).\n",
    "\n",
    "b. Usando estos datos, desarrolla una ecuación de regresión estimada que relacione \\( y \\) con \\( x2 \\). Estima \\( y \\) si \\( x2 = 15 \\).\n",
    "\n",
    "c. Usando estos datos, desarrolla una ecuación de regresión estimada que relacione \\( y \\) con \\( x1 \\) y \\( x2 \\). Estima \\( y \\) si \\( x1 = 45 \\) y \\( x2 = 15 \\)."
   ]
  },
  {
   "cell_type": "code",
   "execution_count": 8,
   "id": "6e7ecda8-f6c4-480c-b6fe-fdd8e8913da3",
   "metadata": {},
   "outputs": [
    {
     "ename": "FileNotFoundError",
     "evalue": "[Errno 2] No such file or directory: 'MR1_1.xlsx'",
     "output_type": "error",
     "traceback": [
      "\u001b[1;31m---------------------------------------------------------------------------\u001b[0m",
      "\u001b[1;31mFileNotFoundError\u001b[0m                         Traceback (most recent call last)",
      "Cell \u001b[1;32mIn[8], line 3\u001b[0m\n\u001b[0;32m      1\u001b[0m \u001b[38;5;66;03m# a. Leer los datos desde el archivo MR1_1 (suponiendo que es un archivo Excel)\u001b[39;00m\n\u001b[0;32m      2\u001b[0m archivo_excel \u001b[38;5;241m=\u001b[39m \u001b[38;5;124m\"\u001b[39m\u001b[38;5;124mMR1_1.xlsx\u001b[39m\u001b[38;5;124m\"\u001b[39m  \u001b[38;5;66;03m# Cambia esto si el archivo tiene otro nombre o extensión\u001b[39;00m\n\u001b[1;32m----> 3\u001b[0m df \u001b[38;5;241m=\u001b[39m pd\u001b[38;5;241m.\u001b[39mread_excel(archivo_excel)\n\u001b[0;32m      5\u001b[0m \u001b[38;5;66;03m# Verificar que las columnas se llaman \"y\", \"x1\" y \"x2\"\u001b[39;00m\n\u001b[0;32m      6\u001b[0m \u001b[38;5;28mprint\u001b[39m(\u001b[38;5;124m\"\u001b[39m\u001b[38;5;124mDatos cargados desde el archivo MR1_1:\u001b[39m\u001b[38;5;124m\"\u001b[39m)\n",
      "File \u001b[1;32m~\\anaconda3\\Lib\\site-packages\\pandas\\io\\excel\\_base.py:495\u001b[0m, in \u001b[0;36mread_excel\u001b[1;34m(io, sheet_name, header, names, index_col, usecols, dtype, engine, converters, true_values, false_values, skiprows, nrows, na_values, keep_default_na, na_filter, verbose, parse_dates, date_parser, date_format, thousands, decimal, comment, skipfooter, storage_options, dtype_backend, engine_kwargs)\u001b[0m\n\u001b[0;32m    493\u001b[0m \u001b[38;5;28;01mif\u001b[39;00m \u001b[38;5;129;01mnot\u001b[39;00m \u001b[38;5;28misinstance\u001b[39m(io, ExcelFile):\n\u001b[0;32m    494\u001b[0m     should_close \u001b[38;5;241m=\u001b[39m \u001b[38;5;28;01mTrue\u001b[39;00m\n\u001b[1;32m--> 495\u001b[0m     io \u001b[38;5;241m=\u001b[39m ExcelFile(\n\u001b[0;32m    496\u001b[0m         io,\n\u001b[0;32m    497\u001b[0m         storage_options\u001b[38;5;241m=\u001b[39mstorage_options,\n\u001b[0;32m    498\u001b[0m         engine\u001b[38;5;241m=\u001b[39mengine,\n\u001b[0;32m    499\u001b[0m         engine_kwargs\u001b[38;5;241m=\u001b[39mengine_kwargs,\n\u001b[0;32m    500\u001b[0m     )\n\u001b[0;32m    501\u001b[0m \u001b[38;5;28;01melif\u001b[39;00m engine \u001b[38;5;129;01mand\u001b[39;00m engine \u001b[38;5;241m!=\u001b[39m io\u001b[38;5;241m.\u001b[39mengine:\n\u001b[0;32m    502\u001b[0m     \u001b[38;5;28;01mraise\u001b[39;00m \u001b[38;5;167;01mValueError\u001b[39;00m(\n\u001b[0;32m    503\u001b[0m         \u001b[38;5;124m\"\u001b[39m\u001b[38;5;124mEngine should not be specified when passing \u001b[39m\u001b[38;5;124m\"\u001b[39m\n\u001b[0;32m    504\u001b[0m         \u001b[38;5;124m\"\u001b[39m\u001b[38;5;124man ExcelFile - ExcelFile already has the engine set\u001b[39m\u001b[38;5;124m\"\u001b[39m\n\u001b[0;32m    505\u001b[0m     )\n",
      "File \u001b[1;32m~\\anaconda3\\Lib\\site-packages\\pandas\\io\\excel\\_base.py:1550\u001b[0m, in \u001b[0;36mExcelFile.__init__\u001b[1;34m(self, path_or_buffer, engine, storage_options, engine_kwargs)\u001b[0m\n\u001b[0;32m   1548\u001b[0m     ext \u001b[38;5;241m=\u001b[39m \u001b[38;5;124m\"\u001b[39m\u001b[38;5;124mxls\u001b[39m\u001b[38;5;124m\"\u001b[39m\n\u001b[0;32m   1549\u001b[0m \u001b[38;5;28;01melse\u001b[39;00m:\n\u001b[1;32m-> 1550\u001b[0m     ext \u001b[38;5;241m=\u001b[39m inspect_excel_format(\n\u001b[0;32m   1551\u001b[0m         content_or_path\u001b[38;5;241m=\u001b[39mpath_or_buffer, storage_options\u001b[38;5;241m=\u001b[39mstorage_options\n\u001b[0;32m   1552\u001b[0m     )\n\u001b[0;32m   1553\u001b[0m     \u001b[38;5;28;01mif\u001b[39;00m ext \u001b[38;5;129;01mis\u001b[39;00m \u001b[38;5;28;01mNone\u001b[39;00m:\n\u001b[0;32m   1554\u001b[0m         \u001b[38;5;28;01mraise\u001b[39;00m \u001b[38;5;167;01mValueError\u001b[39;00m(\n\u001b[0;32m   1555\u001b[0m             \u001b[38;5;124m\"\u001b[39m\u001b[38;5;124mExcel file format cannot be determined, you must specify \u001b[39m\u001b[38;5;124m\"\u001b[39m\n\u001b[0;32m   1556\u001b[0m             \u001b[38;5;124m\"\u001b[39m\u001b[38;5;124man engine manually.\u001b[39m\u001b[38;5;124m\"\u001b[39m\n\u001b[0;32m   1557\u001b[0m         )\n",
      "File \u001b[1;32m~\\anaconda3\\Lib\\site-packages\\pandas\\io\\excel\\_base.py:1402\u001b[0m, in \u001b[0;36minspect_excel_format\u001b[1;34m(content_or_path, storage_options)\u001b[0m\n\u001b[0;32m   1399\u001b[0m \u001b[38;5;28;01mif\u001b[39;00m \u001b[38;5;28misinstance\u001b[39m(content_or_path, \u001b[38;5;28mbytes\u001b[39m):\n\u001b[0;32m   1400\u001b[0m     content_or_path \u001b[38;5;241m=\u001b[39m BytesIO(content_or_path)\n\u001b[1;32m-> 1402\u001b[0m \u001b[38;5;28;01mwith\u001b[39;00m get_handle(\n\u001b[0;32m   1403\u001b[0m     content_or_path, \u001b[38;5;124m\"\u001b[39m\u001b[38;5;124mrb\u001b[39m\u001b[38;5;124m\"\u001b[39m, storage_options\u001b[38;5;241m=\u001b[39mstorage_options, is_text\u001b[38;5;241m=\u001b[39m\u001b[38;5;28;01mFalse\u001b[39;00m\n\u001b[0;32m   1404\u001b[0m ) \u001b[38;5;28;01mas\u001b[39;00m handle:\n\u001b[0;32m   1405\u001b[0m     stream \u001b[38;5;241m=\u001b[39m handle\u001b[38;5;241m.\u001b[39mhandle\n\u001b[0;32m   1406\u001b[0m     stream\u001b[38;5;241m.\u001b[39mseek(\u001b[38;5;241m0\u001b[39m)\n",
      "File \u001b[1;32m~\\anaconda3\\Lib\\site-packages\\pandas\\io\\common.py:882\u001b[0m, in \u001b[0;36mget_handle\u001b[1;34m(path_or_buf, mode, encoding, compression, memory_map, is_text, errors, storage_options)\u001b[0m\n\u001b[0;32m    873\u001b[0m         handle \u001b[38;5;241m=\u001b[39m \u001b[38;5;28mopen\u001b[39m(\n\u001b[0;32m    874\u001b[0m             handle,\n\u001b[0;32m    875\u001b[0m             ioargs\u001b[38;5;241m.\u001b[39mmode,\n\u001b[1;32m   (...)\u001b[0m\n\u001b[0;32m    878\u001b[0m             newline\u001b[38;5;241m=\u001b[39m\u001b[38;5;124m\"\u001b[39m\u001b[38;5;124m\"\u001b[39m,\n\u001b[0;32m    879\u001b[0m         )\n\u001b[0;32m    880\u001b[0m     \u001b[38;5;28;01melse\u001b[39;00m:\n\u001b[0;32m    881\u001b[0m         \u001b[38;5;66;03m# Binary mode\u001b[39;00m\n\u001b[1;32m--> 882\u001b[0m         handle \u001b[38;5;241m=\u001b[39m \u001b[38;5;28mopen\u001b[39m(handle, ioargs\u001b[38;5;241m.\u001b[39mmode)\n\u001b[0;32m    883\u001b[0m     handles\u001b[38;5;241m.\u001b[39mappend(handle)\n\u001b[0;32m    885\u001b[0m \u001b[38;5;66;03m# Convert BytesIO or file objects passed with an encoding\u001b[39;00m\n",
      "\u001b[1;31mFileNotFoundError\u001b[0m: [Errno 2] No such file or directory: 'MR1_1.xlsx'"
     ]
    }
   ],
   "source": [
    "# a. Leer los datos desde el archivo MR1_1 (suponiendo que es un archivo Excel)\n",
    "archivo_excel = \"MR1_1.xlsx\"  # Cambia esto si el archivo tiene otro nombre o extensión\n",
    "df = pd.read_excel(archivo_excel)\n",
    "\n",
    "# Verificar que las columnas se llaman \"y\", \"x1\" y \"x2\"\n",
    "print(\"Datos cargados desde el archivo MR1_1:\")\n",
    "print(df.head())\n",
    "\n",
    "# a. Ecuación de regresión estimada relacionando y con x1\n",
    "modelo_x1 = LinearRegression()\n",
    "modelo_x1.fit(df[[\"x1\"]], df[\"y\"])\n",
    "\n",
    "# Coeficientes de la ecuación de regresión\n",
    "intercepto_x1 = modelo_x1.intercept_\n",
    "pendiente_x1 = modelo_x1.coef_[0]\n",
    "\n",
    "print(\"\\na. Ecuación de regresión estimada relacionando y con x1:\")\n",
    "print(f\"y = {intercepto_x1:.4f} + {pendiente_x1:.4f} * x1\")\n",
    "\n",
    "# Estimar y si x1 = 45\n",
    "y_estimado_x1 = modelo_x1.predict([[45]])\n",
    "print(f\"   Estimación de y cuando x1 = 45: {y_estimado_x1[0]:.4f}\")\n",
    "\n",
    "# b. Ecuación de regresión estimada relacionando y con x2\n",
    "modelo_x2 = LinearRegression()\n",
    "modelo_x2.fit(df[[\"x2\"]], df[\"y\"])\n",
    "\n",
    "# Coeficientes de la ecuación de regresión\n",
    "intercepto_x2 = modelo_x2.intercept_\n",
    "pendiente_x2 = modelo_x2.coef_[0]\n",
    "\n",
    "print(\"\\nb. Ecuación de regresión estimada relacionando y con x2:\")\n",
    "print(f\"y = {intercepto_x2:.4f} + {pendiente_x2:.4f} * x2\")\n",
    "\n",
    "# Estimar y si x2 = 15\n",
    "y_estimado_x2 = modelo_x2.predict([[15]])\n",
    "print(f\"   Estimación de y cuando x2 = 15: {y_estimado_x2[0]:.4f}\")\n",
    "\n",
    "# c. Ecuación de regresión estimada relacionando y con x1 y x2\n",
    "modelo_x1_x2 = LinearRegression()\n",
    "modelo_x1_x2.fit(df[[\"x1\", \"x2\"]], df[\"y\"])\n",
    "\n",
    "# Coeficientes de la ecuación de regresión\n",
    "intercepto_x1_x2 = modelo_x1_x2.intercept_\n",
    "pendiente_x1_x1_x2 = modelo_x1_x2.coef_[0]\n",
    "pendiente_x2_x1_x2 = modelo_x1_x2.coef_[1]\n",
    "\n",
    "print(\"\\nc. Ecuación de regresión estimada relacionando y con x1 y x2:\")\n",
    "print(f\"y = {intercepto_x1_x2:.4f} + {pendiente_x1_x1_x2:.4f} * x1 + {pendiente_x2_x1_x2:.4f} * x2\")\n",
    "\n",
    "# Estimar y si x1 = 45 y x2 = 15\n",
    "y_estimado_x1_x2 = modelo_x1_x2.predict([[45, 15]])\n",
    "print(f\"   Estimación de y cuando x1 = 45 y x2 = 15: {y_estimado_x1_x2[0]:.4f}\")"
   ]
  },
  {
   "cell_type": "code",
   "execution_count": null,
   "id": "19b01a1f-dba6-411f-ad74-aeb80c53bb33",
   "metadata": {},
   "outputs": [],
   "source": []
  }
 ],
 "metadata": {
  "kernelspec": {
   "display_name": "Python [conda env:base] *",
   "language": "python",
   "name": "conda-base-py"
  },
  "language_info": {
   "codemirror_mode": {
    "name": "ipython",
    "version": 3
   },
   "file_extension": ".py",
   "mimetype": "text/x-python",
   "name": "python",
   "nbconvert_exporter": "python",
   "pygments_lexer": "ipython3",
   "version": "3.12.7"
  }
 },
 "nbformat": 4,
 "nbformat_minor": 5
}
